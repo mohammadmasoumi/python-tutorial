{
 "cells": [
  {
   "cell_type": "markdown",
   "metadata": {},
   "source": [
    "# Grid\n",
    "\n",
    "This geometry manager organizes widgets in a table-like structure in the parent widget.\n",
    "\n",
    "\n",
    "Syntax\n",
    "\n",
    "```python\n",
    "widget.grid( grid_options )\n",
    "```\n",
    "\n",
    "\n",
    "Here is the list of possible options −\n",
    "\n",
    " - column − The column to put widget in; default 0 (leftmost column).\n",
    " - columnspan − How many columns widgetoccupies; default 1.\n",
    " - ipadx, ipady − How many pixels to pad widget, horizontally and vertically, inside widget's borders.\n",
    " - padx, pady − How many pixels to pad widget, horizontally and vertically, outside v's borders.\n",
    " - row − The row to put widget in; default the first row that is still empty.\n",
    " - rowspan − How many rowswidget occupies; default 1.\n",
    " - sticky − What to do if the cell is larger than widget. By default, with sticky='', widget is centered in its cell. sticky may be the string concatenation of zero or more of N, E, S, W, NE, NW, SE, and SW, compass directions indicating the sides and corners of the cell to which widget sticks.\n",
    "\n",
    "\n",
    "![grid](images/grid.png \"Grid\")\n"
   ]
  },
  {
   "cell_type": "code",
   "execution_count": null,
   "metadata": {},
   "outputs": [],
   "source": [
    "from tkinter import *\n",
    "\n",
    "# create root\n",
    "root = Tk()\n",
    "\n",
    "# labels\n",
    "label1 = Label(root, text=\"Hello world!\")\n",
    "label1.grid(row=0, column=0)\n",
    "\n",
    "label2 = Label(root, text=\"Create a new label!\")\n",
    "label2.grid(row=1, column=1)\n",
    "\n",
    "label3 = Label(root, text=\"Creating another label!\")\n",
    "label3.grid(row=2, column=2)\n",
    "\n",
    "# create tkinter event loop\n",
    "root.mainloop()"
   ]
  },
  {
   "cell_type": "markdown",
   "metadata": {},
   "source": [
    "# More on grid"
   ]
  },
  {
   "cell_type": "code",
   "execution_count": 8,
   "metadata": {},
   "outputs": [],
   "source": [
    "from tkinter import *\n",
    "\n",
    "# create root\n",
    "root = Tk()\n",
    "\n",
    "# create labels\n",
    "\n",
    "\"\"\"\n",
    "| ---------- | ---------- | ---------- |\n",
    "| Cell(0, 0) | Cell(0, 1) | Cell(0, 2) |\n",
    "| ---------- | ---------- | ---------- |\n",
    "| Cell(1, 0) | Cell(1, 1) | Cell(1, 2) |\n",
    "| ---------- | ---------- | ---------- |\n",
    "| Cell(2, 0) | Cell(2, 1) | Cell(2, 2) |\n",
    "\"\"\"\n",
    "\n",
    "# first row\n",
    "Label(root, text=\"Label(0, 0)\", border=).grid(row=0, column=0, padx=10, pady=10)\n",
    "Label(root, text=\"Label(0, 1)\").grid(row=0, column=1, padx=10, pady=10)\n",
    "Label(root, text=\"Label(0, 2)\").grid(row=0, column=2, padx=10, pady=10)\n",
    "\n",
    "# second row\n",
    "Label(root, text=\"Label(1, 0)\").grid(row=1, column=0, padx=10, pady=10)\n",
    "Label(root, text=\"Label(1, 2)\").grid(row=1, column=1, columnspan=2, padx=10, pady=10)\n",
    "\n",
    "# third row\n",
    "Label(root, text=\"Label(2, 0)\").grid(row=2, column=0, rowspan=2, padx=10, pady=10)\n",
    "Label(root, text=\"Label(2, 1)\").grid(row=2, column=1, padx=10, pady=10)\n",
    "Label(root, text=\"Label(2, 2)\").grid(row=2, column=2, padx=10, pady=10)\n",
    "\n",
    "# forth row\n",
    "Label(root, text=\"Label(3, 1)\").grid(row=3, column=1, padx=10, pady=10)\n",
    "Label(root, text=\"Label(3, 2)\").grid(row=3, column=2, padx=10, pady=10)\n",
    "\n",
    "# main evenloop\n",
    "root.mainloop()"
   ]
  },
  {
   "cell_type": "markdown",
   "metadata": {},
   "source": [
    "# Relativity"
   ]
  },
  {
   "cell_type": "code",
   "execution_count": 1,
   "metadata": {},
   "outputs": [],
   "source": [
    "from tkinter import *\n",
    "\n",
    "# create root\n",
    "root = Tk()\n",
    "\n",
    "# labels\n",
    "label1 = Label(root, text=\"Hello world!\").grid(row=0, column=0)\n",
    "# label1.grid(row=0, column=0)\n",
    "\n",
    "label2 = Label(root, text=\"Create a new label!\")\n",
    "label2.grid(row=10, column=10)\n",
    "\n",
    "label3 = Label(root, text=\"Creating another label!\")\n",
    "label3.grid(row=12, column=12)\n",
    "\n",
    "# main evenloop\n",
    "root.mainloop()"
   ]
  }
 ],
 "metadata": {
  "interpreter": {
   "hash": "74afa6d18a5a39b8ce421aa98b1f4815a7471d239139e74ddf28af6a52ab835f"
  },
  "kernelspec": {
   "display_name": "Python 3.8.10 64-bit ('base': conda)",
   "language": "python",
   "name": "python3"
  },
  "language_info": {
   "codemirror_mode": {
    "name": "ipython",
    "version": 3
   },
   "file_extension": ".py",
   "mimetype": "text/x-python",
   "name": "python",
   "nbconvert_exporter": "python",
   "pygments_lexer": "ipython3",
   "version": "3.8.10"
  },
  "orig_nbformat": 4
 },
 "nbformat": 4,
 "nbformat_minor": 2
}
