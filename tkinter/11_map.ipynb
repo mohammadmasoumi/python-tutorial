{
 "cells": [
  {
   "cell_type": "code",
   "execution_count": 33,
   "metadata": {},
   "outputs": [],
   "source": [
    "from tkinter import *\n",
    "from PIL import Image, ImageTk\n",
    "\n",
    "\n",
    "# root windows\n",
    "root = Tk()\n",
    "root.title = \"Game\"\n",
    "# root.geometry(\"420x420\")\n",
    "\n",
    "\n",
    "# grass image for cell\n",
    "\n",
    "my_map = [\n",
    "    [\"-\", \"-\", \"-\", \"-\"],\n",
    "    [\"-\", \"-\", \"-\", \"-\"],\n",
    "    [\"-\", \"-\", \"-\", \"-\"],\n",
    "    [\"-\", \"-\", \"-\", \"-\"],\n",
    "]\n",
    "\n",
    "\n",
    "labels_2D = []\n",
    "grass_image = ImageTk.PhotoImage(Image.open(\"images/grass.png\"))\n",
    "\n",
    "for row_idx, row in enumerate(my_map):\n",
    "    cells = []\n",
    "    for col_idx, col in enumerate(row):\n",
    "        label_frame = LabelFrame(root, bg=\"white\", relief=SUNKEN, height=100, width=100, borderwidth=5)\n",
    "        label_frame.grid(row=row_idx, column=col_idx)\n",
    "        \n",
    "        label = Label(label_frame, image=grass_image, width=100, height=100)\n",
    "        label.grid(row=row_idx, column=col_idx)\n",
    "\n",
    "        cells.append(label_frame)\n",
    "\n",
    "    labels_2D.append(cells)\n",
    "\n",
    "po_image = ImageTk.PhotoImage(Image.open(\"images/Po.jpeg\"))\n",
    "\n",
    "label = Label(labels_2D[0][0], image=po_image, width=50, height=50)\n",
    "label.place(x=20, y=20)\n",
    "\n",
    "\n",
    "# main loopevent\n",
    "root.mainloop()\n"
   ]
  }
 ],
 "metadata": {
  "interpreter": {
   "hash": "904b9da47796e6b13648dcf2f1f302b9941b8da10864de913021d30fa1cd1c59"
  },
  "kernelspec": {
   "display_name": "Python 3.8.10 64-bit ('venv': venv)",
   "language": "python",
   "name": "python3"
  },
  "language_info": {
   "codemirror_mode": {
    "name": "ipython",
    "version": 3
   },
   "file_extension": ".py",
   "mimetype": "text/x-python",
   "name": "python",
   "nbconvert_exporter": "python",
   "pygments_lexer": "ipython3",
   "version": "3.8.10"
  },
  "orig_nbformat": 4
 },
 "nbformat": 4,
 "nbformat_minor": 2
}
