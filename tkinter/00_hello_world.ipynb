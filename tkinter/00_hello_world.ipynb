{
 "cells": [
  {
   "cell_type": "markdown",
   "metadata": {},
   "source": [
    "# Tkinter\n",
    "\n",
    "The tkinter package (“Tk interface”) is the standard Python interface to the Tcl/Tk GUI toolkit. Both Tk and tkinter are available on most Unix platforms, including macOS, as well as on Windows systems.\n",
    "\n",
    "\n",
    "## Instalattion \n",
    "\n",
    "```bash\n",
    "python3 -m venv venv\n",
    "source /venv/bin/activate\n",
    "\n",
    "pip install tk\n",
    "```\n",
    "\n",
    "## Documentation\n",
    "\n",
    "https://docs.python.org/3/library/tkinter.html#a-hello-world-program\n",
    "\n",
    "\n",
    "\n",
    "## Widgets\n",
    "\n",
    "\n",
    " - Label widget\n",
    " - Button widget\n",
    " - Entry widget\n",
    " - Radiobutton widget\n",
    " - Checkbutton widget\n",
    " - Scale widget (horizontal & vertical)\n",
    " - Text widget\n",
    " - LabelFrame widget\n",
    " - Canvas widget\n",
    " - Listbox widget\n",
    " - Menu widget\n",
    " - OpetionMenu widget (Combobox)"
   ]
  },
  {
   "cell_type": "markdown",
   "metadata": {},
   "source": [
    "# ttk "
   ]
  },
  {
   "cell_type": "code",
   "execution_count": 1,
   "metadata": {},
   "outputs": [],
   "source": [
    "from tkinter import *\n",
    "from tkinter import ttk # new widget style\n",
    "\n",
    "# create root widget\n",
    "root = Tk()\n",
    "\n",
    "# create a frame\n",
    "frame = ttk.Frame(root, padding=10)\n",
    "frame.grid()\n",
    "\n",
    "# create a lable\n",
    "ttk.Label(frame, text=\"Hello world!\").grid(column=0, row=0)\n",
    "\n",
    "# create a button\n",
    "ttk.Button(frame, text=\"Exit\", command=root.destroy).grid(column=1, row=0)\n",
    "\n",
    "# How tkinter work?\n",
    "# while loop\n",
    "root.mainloop()"
   ]
  },
  {
   "cell_type": "markdown",
   "metadata": {},
   "source": [
    "# Tk\n",
    "\n",
    "\n",
    " - `grid` and `pack` \n",
    " - `padx` and `pady`"
   ]
  },
  {
   "cell_type": "code",
   "execution_count": 6,
   "metadata": {},
   "outputs": [],
   "source": [
    "from tkinter import *\n",
    "\n",
    "# create root\n",
    "root = Tk()\n",
    "\n",
    "# create a frome\n",
    "frame = Frame(root, padx=10, pady=100)\n",
    "frame.grid(row=0, column=0)\n",
    "\n",
    "# label\n",
    "label = Label(frame, text=\"Hello world!\")\n",
    "label.grid(row=1, column=0)\n",
    "\n",
    "\n",
    "# button\n",
    "button = Button(frame, text=\"Exit\", command=root.destroy)\n",
    "button.grid(row=2, column=0)\n",
    "\n",
    "# create loop\n",
    "root.mainloop()"
   ]
  },
  {
   "cell_type": "markdown",
   "metadata": {},
   "source": [
    "# Bitmap icon & title"
   ]
  },
  {
   "cell_type": "code",
   "execution_count": 1,
   "metadata": {},
   "outputs": [
    {
     "ename": "TclError",
     "evalue": "bitmap \"images/bitmap.png\" not defined",
     "output_type": "error",
     "traceback": [
      "\u001b[0;31m---------------------------------------------------------------------------\u001b[0m",
      "\u001b[0;31mTclError\u001b[0m                                  Traceback (most recent call last)",
      "\u001b[0;32m/tmp/ipykernel_104261/4118099046.py\u001b[0m in \u001b[0;36m<module>\u001b[0;34m\u001b[0m\n\u001b[1;32m      4\u001b[0m \u001b[0;31m# root\u001b[0m\u001b[0;34m\u001b[0m\u001b[0;34m\u001b[0m\u001b[0;34m\u001b[0m\u001b[0m\n\u001b[1;32m      5\u001b[0m \u001b[0mroot\u001b[0m \u001b[0;34m=\u001b[0m \u001b[0mTk\u001b[0m\u001b[0;34m(\u001b[0m\u001b[0;34m)\u001b[0m\u001b[0;34m\u001b[0m\u001b[0;34m\u001b[0m\u001b[0m\n\u001b[0;32m----> 6\u001b[0;31m \u001b[0mroot\u001b[0m\u001b[0;34m.\u001b[0m\u001b[0miconbitmap\u001b[0m\u001b[0;34m(\u001b[0m\u001b[0;34m\"images/bitmap.png\"\u001b[0m\u001b[0;34m)\u001b[0m\u001b[0;34m\u001b[0m\u001b[0;34m\u001b[0m\u001b[0m\n\u001b[0m\u001b[1;32m      7\u001b[0m \u001b[0;34m\u001b[0m\u001b[0m\n\u001b[1;32m      8\u001b[0m \u001b[0;34m\u001b[0m\u001b[0m\n",
      "\u001b[0;32m~/miniconda3/lib/python3.8/tkinter/__init__.py\u001b[0m in \u001b[0;36mwm_iconbitmap\u001b[0;34m(self, bitmap, default)\u001b[0m\n\u001b[1;32m   2078\u001b[0m             \u001b[0;32mreturn\u001b[0m \u001b[0mself\u001b[0m\u001b[0;34m.\u001b[0m\u001b[0mtk\u001b[0m\u001b[0;34m.\u001b[0m\u001b[0mcall\u001b[0m\u001b[0;34m(\u001b[0m\u001b[0;34m'wm'\u001b[0m\u001b[0;34m,\u001b[0m \u001b[0;34m'iconbitmap'\u001b[0m\u001b[0;34m,\u001b[0m \u001b[0mself\u001b[0m\u001b[0;34m.\u001b[0m\u001b[0m_w\u001b[0m\u001b[0;34m,\u001b[0m \u001b[0;34m'-default'\u001b[0m\u001b[0;34m,\u001b[0m \u001b[0mdefault\u001b[0m\u001b[0;34m)\u001b[0m\u001b[0;34m\u001b[0m\u001b[0;34m\u001b[0m\u001b[0m\n\u001b[1;32m   2079\u001b[0m         \u001b[0;32melse\u001b[0m\u001b[0;34m:\u001b[0m\u001b[0;34m\u001b[0m\u001b[0;34m\u001b[0m\u001b[0m\n\u001b[0;32m-> 2080\u001b[0;31m             \u001b[0;32mreturn\u001b[0m \u001b[0mself\u001b[0m\u001b[0;34m.\u001b[0m\u001b[0mtk\u001b[0m\u001b[0;34m.\u001b[0m\u001b[0mcall\u001b[0m\u001b[0;34m(\u001b[0m\u001b[0;34m'wm'\u001b[0m\u001b[0;34m,\u001b[0m \u001b[0;34m'iconbitmap'\u001b[0m\u001b[0;34m,\u001b[0m \u001b[0mself\u001b[0m\u001b[0;34m.\u001b[0m\u001b[0m_w\u001b[0m\u001b[0;34m,\u001b[0m \u001b[0mbitmap\u001b[0m\u001b[0;34m)\u001b[0m\u001b[0;34m\u001b[0m\u001b[0;34m\u001b[0m\u001b[0m\n\u001b[0m\u001b[1;32m   2081\u001b[0m \u001b[0;34m\u001b[0m\u001b[0m\n\u001b[1;32m   2082\u001b[0m     \u001b[0miconbitmap\u001b[0m \u001b[0;34m=\u001b[0m \u001b[0mwm_iconbitmap\u001b[0m\u001b[0;34m\u001b[0m\u001b[0;34m\u001b[0m\u001b[0m\n",
      "\u001b[0;31mTclError\u001b[0m: bitmap \"images/bitmap.png\" not defined"
     ]
    }
   ],
   "source": [
    "from tkinter import *\n",
    "\n",
    "\n",
    "# root\n",
    "# https://icon-icons.com/\n",
    "\n",
    "root = Tk()\n",
    "root.iconbitmap(\"images/bitmap.png\")\n",
    "\n",
    "\n",
    "\n",
    "# main eventloop\n",
    "root.mainloop()\n"
   ]
  }
 ],
 "metadata": {
  "interpreter": {
   "hash": "74afa6d18a5a39b8ce421aa98b1f4815a7471d239139e74ddf28af6a52ab835f"
  },
  "kernelspec": {
   "display_name": "Xonsh",
   "language": "python",
   "name": "python3"
  },
  "language_info": {
   "codemirror_mode": {
    "name": "ipython",
    "version": 3
   },
   "file_extension": ".py",
   "mimetype": "text/x-python",
   "name": "python",
   "nbconvert_exporter": "python",
   "pygments_lexer": "ipython3",
   "version": "3.8.10"
  },
  "orig_nbformat": 4
 },
 "nbformat": 4,
 "nbformat_minor": 2
}
