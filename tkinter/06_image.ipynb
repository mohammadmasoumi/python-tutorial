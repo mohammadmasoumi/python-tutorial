{
 "cells": [
  {
   "cell_type": "markdown",
   "metadata": {},
   "source": [
    "# Image\n",
    "\n",
    "\n",
    "```bash\n",
    "pip install pillow\n",
    "```"
   ]
  },
  {
   "cell_type": "code",
   "execution_count": null,
   "metadata": {},
   "outputs": [],
   "source": [
    "from tkinter import *\n",
    "from PIL import Image, ImageTk\n",
    "\n",
    "# root\n",
    "root = Tk()\n",
    "\n",
    "\n",
    "\n",
    "# image\n",
    "my_image = ImageTk.PhotoImage(Image.open(\"images/Po.jpeg\"))\n",
    "\n",
    "\n",
    "# label\n",
    "my_label = Label(root, image=my_image)\n",
    "my_image.pack()\n",
    "\n",
    "\n",
    "# button\n",
    "my_button = Button\n",
    "\n",
    "\n",
    "\n",
    "\n",
    "\n",
    "\n",
    "\n",
    "\n",
    "# main eventloop\n",
    "root.mainloop()\n",
    "\n"
   ]
  }
 ],
 "metadata": {
  "language_info": {
   "name": "python"
  },
  "orig_nbformat": 4
 },
 "nbformat": 4,
 "nbformat_minor": 2
}
