{
 "cells": [
  {
   "cell_type": "markdown",
   "metadata": {},
   "source": [
    "# Button"
   ]
  },
  {
   "cell_type": "code",
   "execution_count": 1,
   "metadata": {},
   "outputs": [],
   "source": [
    "from tkinter import *\n",
    "\n",
    "\n",
    "# root\n",
    "root = Tk()\n",
    "\n",
    "# button\n",
    "button = Button(root, text=\"Click me!\")\n",
    "button.pack()\n",
    "\n",
    "# main eventloop\n",
    "root.mainloop()"
   ]
  },
  {
   "cell_type": "markdown",
   "metadata": {},
   "source": [
    "# Button on click"
   ]
  },
  {
   "cell_type": "code",
   "execution_count": null,
   "metadata": {},
   "outputs": [],
   "source": [
    "from tkinter import *\n",
    "\n",
    "\n",
    "# root\n",
    "root = Tk()\n",
    "\n",
    "\n",
    "def on_click():\n",
    "    print(\"CLicked!\")\n",
    "\n",
    "\n",
    "# button\n",
    "button = Button(root, text=\"Click me!\", command=on_click)\n",
    "button.pack()\n",
    "\n",
    "# main eventloop\n",
    "root.mainloop()"
   ]
  },
  {
   "cell_type": "markdown",
   "metadata": {},
   "source": [
    "# Update label's text on click"
   ]
  },
  {
   "cell_type": "code",
   "execution_count": 4,
   "metadata": {},
   "outputs": [],
   "source": [
    "from tkinter import *\n",
    "\n",
    "\n",
    "# root\n",
    "root = Tk()\n",
    "\n",
    "\n",
    "def on_click():\n",
    "    global label\n",
    "\n",
    "    label.configure(text=\"Hello again!\") \n",
    "\n",
    "\n",
    "# button\n",
    "button = Button(root, text=\"Click me!\", command=on_click, pady=20, padx=20)\n",
    "button.pack()\n",
    "\n",
    "label = Label(root, text=\"Hello!\")\n",
    "label.pack()\n",
    "\n",
    "\n",
    "# main eventloop\n",
    "root.mainloop()"
   ]
  }
 ],
 "metadata": {
  "interpreter": {
   "hash": "74afa6d18a5a39b8ce421aa98b1f4815a7471d239139e74ddf28af6a52ab835f"
  },
  "kernelspec": {
   "display_name": "Python 3.8.10 64-bit ('base': conda)",
   "language": "python",
   "name": "python3"
  },
  "language_info": {
   "codemirror_mode": {
    "name": "ipython",
    "version": 3
   },
   "file_extension": ".py",
   "mimetype": "text/x-python",
   "name": "python",
   "nbconvert_exporter": "python",
   "pygments_lexer": "ipython3",
   "version": "3.8.10"
  },
  "orig_nbformat": 4
 },
 "nbformat": 4,
 "nbformat_minor": 2
}
