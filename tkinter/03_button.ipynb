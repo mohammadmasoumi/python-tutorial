{
 "cells": [
  {
   "cell_type": "markdown",
   "metadata": {},
   "source": [
    "# Button"
   ]
  },
  {
   "cell_type": "code",
   "execution_count": null,
   "metadata": {},
   "outputs": [],
   "source": [
    "from tkinter import *\n",
    "\n",
    "\n",
    "# root\n",
    "root = Tk()\n",
    "\n",
    "# button\n",
    "button = Button(root, text=\"Click me!\")\n",
    "button.pack()\n",
    "\n",
    "# main eventloop\n",
    "root.mainloop()"
   ]
  }
 ],
 "metadata": {
  "interpreter": {
   "hash": "74afa6d18a5a39b8ce421aa98b1f4815a7471d239139e74ddf28af6a52ab835f"
  },
  "kernelspec": {
   "display_name": "Python 3.8.10 64-bit ('base': conda)",
   "language": "python",
   "name": "python3"
  },
  "language_info": {
   "name": "python",
   "version": "3.8.10"
  },
  "orig_nbformat": 4
 },
 "nbformat": 4,
 "nbformat_minor": 2
}
