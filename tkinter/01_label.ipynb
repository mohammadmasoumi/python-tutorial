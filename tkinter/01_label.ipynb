{
 "cells": [
  {
   "cell_type": "markdown",
   "metadata": {},
   "source": [
    "# Label widget\n",
    "\n",
    "Construct a label widget with the parent MASTER.\n",
    "\n",
    "\n",
    "## STANDARD OPTIONS\n",
    "\n",
    "   - activebackground\n",
    "   - activeforeground\n",
    "   - anchor\n",
    "   - background\n",
    "   - bitmap\n",
    "   - borderwidth\n",
    "   - cursor\n",
    "   - disabledforeground\n",
    "   - font\n",
    "   - foreground\n",
    "   - highlightbackground\n",
    "   - highlightcolor\n",
    "   - highlightthickness\n",
    "   - image\n",
    "   - justify\n",
    "   - padx\n",
    "   - pady\n",
    "   - relief\n",
    "   - takefocus\n",
    "   - text\n",
    "   - textvariable\n",
    "   - underline\n",
    "   - wraplength\n",
    "\n",
    "## WIDGET-SPECIFIC OPTIONS\n",
    "\n",
    "   - height\n",
    "   - state\n",
    "   - width"
   ]
  },
  {
   "cell_type": "code",
   "execution_count": null,
   "metadata": {},
   "outputs": [],
   "source": [
    "from tkinter import *\n",
    "\n",
    "\n",
    "# create root\n",
    "root = Tk()\n",
    "\n",
    "# create label\n",
    "label = Label(root, text=\"This is a label!\").pack()\n",
    "\n",
    "# or call pack later\n",
    "# label.pack()\n",
    "\n",
    "# tkinter eventloop\n",
    "root.mainloop()"
   ]
  },
  {
   "cell_type": "markdown",
   "metadata": {},
   "source": [
    "# More labels"
   ]
  },
  {
   "cell_type": "code",
   "execution_count": 3,
   "metadata": {},
   "outputs": [],
   "source": [
    "from tkinter import *\n",
    "\n",
    "\n",
    "# create root frame\n",
    "root = Tk()\n",
    "\n",
    "# labels \n",
    "labels = [\n",
    "    \"label_1\",\n",
    "    \"label_2\",\n",
    "    \"label_3\",\n",
    "    \"label_4\",\n",
    "    \"label_5\",\n",
    "    \"label_6\"\n",
    "]\n",
    "\n",
    "# create label widgets\n",
    "for label_name in labels:\n",
    "    label_widget = Label(root, text=label_name, padx=10, pady=20)\n",
    "    label_widget.pack()\n",
    "\n",
    "# main loop\n",
    "root.mainloop()"
   ]
  }
 ],
 "metadata": {
  "interpreter": {
   "hash": "74afa6d18a5a39b8ce421aa98b1f4815a7471d239139e74ddf28af6a52ab835f"
  },
  "kernelspec": {
   "display_name": "Python 3.8.10 64-bit ('base': conda)",
   "language": "python",
   "name": "python3"
  },
  "language_info": {
   "codemirror_mode": {
    "name": "ipython",
    "version": 3
   },
   "file_extension": ".py",
   "mimetype": "text/x-python",
   "name": "python",
   "nbconvert_exporter": "python",
   "pygments_lexer": "ipython3",
   "version": "3.8.10"
  },
  "orig_nbformat": 4
 },
 "nbformat": 4,
 "nbformat_minor": 2
}
