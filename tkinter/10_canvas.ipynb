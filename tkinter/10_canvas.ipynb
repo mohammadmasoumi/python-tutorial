{
 "cells": [
  {
   "cell_type": "markdown",
   "metadata": {},
   "source": [
    "# Canvas"
   ]
  },
  {
   "cell_type": "code",
   "execution_count": 16,
   "metadata": {},
   "outputs": [],
   "source": [
    "from tkinter import *\n",
    "from PIL import Image, ImageTk\n",
    "\n",
    "canvas_width = 700\n",
    "canvas_height = 700\n",
    "\n",
    "root = Tk()\n",
    "\n",
    "canvas = Canvas(root, width=canvas_width, height=canvas_height)\n",
    "canvas.pack()\n",
    "\n",
    "my_image1 = ImageTk.PhotoImage(Image.open(\"images/grid.png\"))\n",
    "my_image2 = ImageTk.PhotoImage(Image.open(\"images/Po.jpeg\"))\n",
    "\n",
    "#label = Label(root, image=my_image).pack()\n",
    "canvas.create_image(50, 50, anchor=W, image=my_image1)\n",
    "canvas.create_image(50, 50, anchor=W, image=my_image2)\n",
    "\n",
    "\n",
    "root.mainloop()"
   ]
  }
 ],
 "metadata": {
  "interpreter": {
   "hash": "904b9da47796e6b13648dcf2f1f302b9941b8da10864de913021d30fa1cd1c59"
  },
  "kernelspec": {
   "display_name": "Python 3.8.10 64-bit ('venv': venv)",
   "language": "python",
   "name": "python3"
  },
  "language_info": {
   "codemirror_mode": {
    "name": "ipython",
    "version": 3
   },
   "file_extension": ".py",
   "mimetype": "text/x-python",
   "name": "python",
   "nbconvert_exporter": "python",
   "pygments_lexer": "ipython3",
   "version": "3.8.10"
  },
  "orig_nbformat": 4
 },
 "nbformat": 4,
 "nbformat_minor": 2
}
