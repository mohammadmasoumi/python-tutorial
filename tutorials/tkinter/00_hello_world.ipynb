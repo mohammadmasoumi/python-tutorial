{
 "cells": [
  {
   "cell_type": "markdown",
   "metadata": {},
   "source": [
    "# Tkinter\n",
    "\n",
    "The tkinter package (“Tk interface”) is the standard Python interface to the Tcl/Tk GUI toolkit. Both Tk and tkinter are available on most Unix platforms, including macOS, as well as on Windows systems.\n",
    "\n",
    "\n",
    "## Instalattion \n",
    "\n",
    "```bash\n",
    "python3 -m venv venv\n",
    "source /venv/bin/activate\n",
    "\n",
    "pip install tk\n",
    "```\n",
    "\n",
    "## Documentation\n",
    "\n",
    "https://docs.python.org/3/library/tkinter.html#a-hello-world-program\n",
    "\n",
    "\n",
    "\n",
    "## Widgets\n",
    "\n",
    "\n",
    " - Label widget\n",
    " - Button widget\n",
    " - Entry widget\n",
    " - Radiobutton widget\n",
    " - Checkbutton widget\n",
    " - Scale widget (horizontal & vertical)\n",
    " - Text widget\n",
    " - LabelFrame widget\n",
    " - Canvas widget\n",
    " - Listbox widget\n",
    " - Menu widget\n",
    " - OpetionMenu widget (Combobox)"
   ]
  },
  {
   "cell_type": "markdown",
   "metadata": {},
   "source": [
    "# ttk "
   ]
  },
  {
   "cell_type": "code",
   "execution_count": 1,
   "metadata": {},
   "outputs": [],
   "source": [
    "from tkinter import *\n",
    "from tkinter import ttk # new widget style\n",
    "\n",
    "# create root widget\n",
    "root = Tk()\n",
    "\n",
    "# create a frame\n",
    "frame = ttk.Frame(root, padding=10)\n",
    "frame.grid()\n",
    "\n",
    "# create a lable\n",
    "ttk.Label(frame, text=\"Hello world!\").grid(column=0, row=0)\n",
    "\n",
    "# create a button\n",
    "ttk.Button(frame, text=\"Exit\", command=root.destroy).grid(column=1, row=0)\n",
    "\n",
    "# How tkinter work?\n",
    "# while loop\n",
    "root.mainloop()"
   ]
  },
  {
   "cell_type": "markdown",
   "metadata": {},
   "source": [
    "# Tk\n",
    "\n",
    "\n",
    " - `grid` and `pack` \n",
    " - `padx` and `pady`"
   ]
  },
  {
   "cell_type": "code",
   "execution_count": 6,
   "metadata": {},
   "outputs": [],
   "source": [
    "from tkinter import *\n",
    "\n",
    "# create root\n",
    "root = Tk()\n",
    "\n",
    "# create a frome\n",
    "frame = Frame(root, padx=10, pady=100)\n",
    "frame.grid(row=0, column=0)\n",
    "\n",
    "# label\n",
    "label = Label(frame, text=\"Hello world!\")\n",
    "label.grid(row=1, column=0)\n",
    "\n",
    "\n",
    "# button\n",
    "button = Button(frame, text=\"Exit\", command=root.destroy)\n",
    "button.grid(row=2, column=0)\n",
    "\n",
    "# create loop\n",
    "root.mainloop()"
   ]
  }
 ],
 "metadata": {
  "interpreter": {
   "hash": "74afa6d18a5a39b8ce421aa98b1f4815a7471d239139e74ddf28af6a52ab835f"
  },
  "kernelspec": {
   "display_name": "Xonsh",
   "language": "python",
   "name": "python3"
  },
  "language_info": {
   "codemirror_mode": {
    "name": "ipython",
    "version": 3
   },
   "file_extension": ".py",
   "mimetype": "text/x-python",
   "name": "python",
   "nbconvert_exporter": "python",
   "pygments_lexer": "ipython3",
   "version": "3.8.10"
  },
  "orig_nbformat": 4
 },
 "nbformat": 4,
 "nbformat_minor": 2
}
