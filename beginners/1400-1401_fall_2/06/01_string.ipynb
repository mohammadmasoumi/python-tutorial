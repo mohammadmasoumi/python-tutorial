{
 "cells": [
  {
   "cell_type": "markdown",
   "metadata": {},
   "source": [
    "# String\n",
    "\n",
    "\n",
    "\n",
    "string is a sequence of character.\n",
    "\n",
    "character -> alphabetic, number, unicode\n",
    "character -> unicode (encode format) (python format)\n",
    "\n",
    "## ascii\n",
    "\n",
    "ord: str -> int (encode)\n",
    "chr: int -> str (decode)\n"
   ]
  },
  {
   "cell_type": "code",
   "execution_count": null,
   "metadata": {},
   "outputs": [],
   "source": [
    "name = \"Hello world!\"\n",
    "\n",
    "# access to H character\n",
    "print(name[0])\n",
    "\n",
    "# size of string\n",
    "print(len(name))"
   ]
  },
  {
   "cell_type": "code",
   "execution_count": null,
   "metadata": {},
   "outputs": [],
   "source": [
    "str1 = \"Hello\"\n",
    "str2 = \"World\"\n",
    "str3 = \"ello\"\n",
    "\n",
    "# concatenation\n",
    "print(str1 + str2)\n",
    "\n",
    "# TypeError: unsupported operand type(s) for -: 'str' and 'str'\n",
    "#print(str1 - str2)\n",
    "#print(str1 - str3)\n",
    "#print(str1 - str1)"
   ]
  },
  {
   "cell_type": "code",
   "execution_count": null,
   "metadata": {},
   "outputs": [],
   "source": [
    "str1 = \"Hello\"\n",
    "str2 = \"World\"\n",
    "str3 = \"ello\"\n",
    "\n",
    "# TypeError: can't multiply sequence by non-int of type 'str'\n",
    "#print(str1 * str2)\n",
    "#print(str1 / str2)\n",
    "\n",
    "print(str1 * 2)\n",
    "\n",
    "# TypeError: unsupported operand type(s) for /: 'str' and 'int'\n",
    "# print(str1 / 2)\n",
    "\n",
    "# print(str1 - 2)\n",
    "# print(str1 + 2)"
   ]
  },
  {
   "cell_type": "code",
   "execution_count": null,
   "metadata": {},
   "outputs": [],
   "source": [
    "print(\"Hello\" \"world\")\n",
    "\n",
    "# string concatenation\n",
    "s1 = \"Hello\" \"world\"\n",
    "s2 = (\n",
    "    \"Hello\"\n",
    "    \"world\"\n",
    ")\n",
    "\n",
    "print(s1)\n",
    "print(s2)"
   ]
  },
  {
   "cell_type": "code",
   "execution_count": null,
   "metadata": {},
   "outputs": [],
   "source": [
    "#         012345678910\n",
    "string = \"Hello world\"\n",
    "\n",
    "print(string[0])\n",
    "print(string[5: -1])"
   ]
  },
  {
   "cell_type": "code",
   "execution_count": null,
   "metadata": {},
   "outputs": [],
   "source": [
    "a_list = [1, 2, 3,4]\n",
    "a_list[0] = 2  # update\n",
    "\n",
    "\n",
    "# string -> is a list of character\n",
    "\"\"\"\n",
    "variable\n",
    "name\n",
    "value\n",
    "type\n",
    "\"\"\"\n",
    "string = \"Hello world\"\n",
    "# TypeError: 'str' object does not support item assignment\n",
    "#string[0] = \"h\"\n",
    "\n",
    "# Immutable - تغییر ناپذیر\n",
    "# re-assign\n",
    "# string = \"h\" + string[1:]\n",
    "string1 = \"h\" + string[1:]\n",
    "print(string)\n",
    "print(string1)\n"
   ]
  },
  {
   "cell_type": "code",
   "execution_count": null,
   "metadata": {},
   "outputs": [],
   "source": [
    "a = 12\n",
    "a = a + 1\n",
    "\n",
    "# TypeError: 'int' object is not subscriptable\n",
    "# print(a[0])\n",
    "# a += 1\n",
    "# >=\n",
    "# <=\n",
    "# a = 20 \n",
    "# a =+ 20\n",
    "\n",
    "print(a)\n"
   ]
  },
  {
   "cell_type": "code",
   "execution_count": null,
   "metadata": {},
   "outputs": [],
   "source": [
    "a = [12, 12, 10, 11]\n",
    "b = {12, 12, 10, 11} # curly braces - set\n",
    "c = (12, 12, 10, 11) # tuple\n",
    "d = (12) # generator\n",
    "\n",
    "a.remove(12)\n",
    "print(a)\n",
    "print(b)\n",
    "print(c)\n",
    "print(d)\n"
   ]
  }
 ],
 "metadata": {
  "interpreter": {
   "hash": "5aaead0e7235a551b85247d5b7546a09b5658f410f39e1598ecb2eb7dddcba04"
  },
  "kernelspec": {
   "display_name": "Python 3.8.3 64-bit",
   "language": "python",
   "name": "python3"
  },
  "language_info": {
   "codemirror_mode": {
    "name": "ipython",
    "version": 3
   },
   "file_extension": ".py",
   "mimetype": "text/x-python",
   "name": "python",
   "nbconvert_exporter": "python",
   "pygments_lexer": "ipython3",
   "version": "3.8.3"
  },
  "orig_nbformat": 4
 },
 "nbformat": 4,
 "nbformat_minor": 2
}
