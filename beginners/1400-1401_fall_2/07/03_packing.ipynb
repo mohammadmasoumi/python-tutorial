{
 "cells": [
  {
   "cell_type": "markdown",
   "metadata": {},
   "source": [
    "# Packing & unpacking"
   ]
  },
  {
   "cell_type": "markdown",
   "metadata": {},
   "source": [
    "## Unpacking\n"
   ]
  },
  {
   "cell_type": "markdown",
   "metadata": {},
   "source": [
    "### 1. list's length is equal to the variables"
   ]
  },
  {
   "cell_type": "code",
   "execution_count": null,
   "metadata": {},
   "outputs": [],
   "source": [
    "my_list = [1, 2, 3, 4]\n",
    "\n",
    "# a <=> 1\n",
    "# b <=> 2\n",
    "# c <=> 3\n",
    "# d <=> 4\n",
    "# a, b, c, d = [1, 2, 3, 4]\n",
    "a, b, c, d = my_list\n",
    "\n",
    "print(a, b, c, d, sep=\"-\")"
   ]
  },
  {
   "cell_type": "markdown",
   "metadata": {},
   "source": [
    "### 2. list's length is less than the variables"
   ]
  },
  {
   "cell_type": "code",
   "execution_count": null,
   "metadata": {},
   "outputs": [],
   "source": [
    "my_list = [1, 2, 3, 4]\n",
    "\n",
    "# a <=> 1\n",
    "# b <=> 2\n",
    "# c <=> 3\n",
    "# d <=> 4\n",
    "# e <=> ???\n",
    "# a, b, c, d, e = [1, 2, 3, 4]\n",
    "# ValueError: not enough values to unpack (expected 5, got 4)\n",
    "a, b, c, d, e = my_list\n",
    "\n",
    "print(a, b, c, d, e, sep=\"-\")"
   ]
  },
  {
   "cell_type": "markdown",
   "metadata": {},
   "source": [
    "### 3. list's length is greater than the variables"
   ]
  },
  {
   "cell_type": "code",
   "execution_count": null,
   "metadata": {},
   "outputs": [],
   "source": [
    "my_list = [1, 2, 3, 4]\n",
    "\n",
    "# a <=> 1\n",
    "# b <=> 2\n",
    "# c <=> 3\n",
    "# ??? <=> 4\n",
    "# a, b, c = [1, 2, 3, 4]\n",
    "# ValueError: too many values to unpack (expected 3)\n",
    "a, b, c = my_list\n",
    "\n",
    "print(a, b, c, sep=\"-\")"
   ]
  },
  {
   "cell_type": "markdown",
   "metadata": {},
   "source": [
    "#### How to solve? \n",
    "\n",
    "by using *\n",
    "\n",
    "\n",
    "##### 1. ```a, *b, c = [1, 2, 3, 4]```\n",
    "\n",
    " - a <=> 1\n",
    " - c <=> 4\n",
    " - b <=> [2, 3] put remaining into b\n",
    "\n",
    "##### 2. ```a, *b, c = [1, 2, 3, 4, 5]```\n",
    "\n",
    " - a <=> 1\n",
    " - c <=> 5\n",
    " - b <=> [2, 3, 4] put remaining into b\n",
    "\n",
    "##### 3. ```*a, b, c = [1, 2, 3, 4, 5]```\n",
    "\n",
    " - b <=> 4\n",
    " - c <=> 5\n",
    " - a <=> [1, 2, 3] put remaining into a\n",
    "\n",
    "\n"
   ]
  },
  {
   "cell_type": "code",
   "execution_count": null,
   "metadata": {},
   "outputs": [],
   "source": [
    "my_list = [1, 2, 3, 4]\n",
    "\n",
    "# a <=> 1\n",
    "# b <=> 2\n",
    "# c <=> 3\n",
    "# a, b, c = [1, 2, 3, 4]\n",
    "*a, b, c = my_list\n",
    "\n",
    "print(a, b, c, sep=\"-\")"
   ]
  },
  {
   "cell_type": "code",
   "execution_count": null,
   "metadata": {},
   "outputs": [],
   "source": [
    "my_list = [1, 2, 3, 4]\n",
    "\n",
    "# a <=> 1\n",
    "# b <=> 2\n",
    "# c <=> 3\n",
    "# a, b, c = [1, 2, 3, 4]\n",
    "a, *b, c = my_list\n",
    "\n",
    "print(a, b, c, sep=\"-\")"
   ]
  },
  {
   "cell_type": "code",
   "execution_count": null,
   "metadata": {},
   "outputs": [],
   "source": [
    "my_list = [1, 2, 3, 4]\n",
    "\n",
    "# a <=> 1\n",
    "# b <=> 2\n",
    "# c <=> 3\n",
    "# a, b, c = [1, 2, 3, 4]\n",
    "a, b, *c = my_list\n",
    "\n",
    "print(a, b, c, sep=\"-\")"
   ]
  },
  {
   "cell_type": "markdown",
   "metadata": {},
   "source": [
    "#### You are not allowed to use more than one * in unpacking"
   ]
  },
  {
   "cell_type": "code",
   "execution_count": null,
   "metadata": {},
   "outputs": [],
   "source": [
    "my_list = [1, 2, 3, 4, 5]\n",
    "\n",
    "# a <=> 1\n",
    "# b <=> ???\n",
    "# c <=> ???\n",
    "# a, b, c = [1, 2, 3, 4, 5]\n",
    "# SyntaxError: multiple starred expressions in assignment\n",
    "a, *b, *c = my_list\n",
    "\n",
    "print(a, b, c, sep=\"-\")"
   ]
  }
 ],
 "metadata": {
  "interpreter": {
   "hash": "94ad99f85027a56fa5012145ed8bf9455ed45f6bab4641bf8aa99dcbbb4bb3cc"
  },
  "kernelspec": {
   "display_name": "Python 3.9.5 64-bit ('my_env': venv)",
   "language": "python",
   "name": "python3"
  },
  "language_info": {
   "codemirror_mode": {
    "name": "ipython",
    "version": 3
   },
   "file_extension": ".py",
   "mimetype": "text/x-python",
   "name": "python",
   "nbconvert_exporter": "python",
   "pygments_lexer": "ipython3",
   "version": "3.9.5"
  },
  "orig_nbformat": 4
 },
 "nbformat": 4,
 "nbformat_minor": 2
}
