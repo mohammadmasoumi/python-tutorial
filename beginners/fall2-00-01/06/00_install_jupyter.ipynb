{
 "cells": [
  {
   "cell_type": "markdown",
   "metadata": {},
   "source": [
    "# How to install jupyter\n",
    "\n",
    "\n",
    "1. install vscode\n",
    "2. extentions -> search jupyter \n",
    "3. install \n",
    "4. install python\n",
    "5. install jupyter kernal"
   ]
  }
 ],
 "metadata": {
  "language_info": {
   "name": "python"
  },
  "orig_nbformat": 4
 },
 "nbformat": 4,
 "nbformat_minor": 2
}
