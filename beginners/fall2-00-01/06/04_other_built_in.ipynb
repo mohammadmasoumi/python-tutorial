{
 "cells": [
  {
   "cell_type": "markdown",
   "metadata": {},
   "source": [
    "# built-in function\n",
    "\n",
    "- int()\n",
    "- float()\n",
    "- str()\n",
    "- bool()\n",
    "- print()\n",
    "- input()\n",
    "- ord()\n",
    "- chr()\n",
    "\n",
    "\n",
    "\n",
    "- max\n",
    "- min\n",
    "- oct\n",
    "- hex\n",
    "- sum\n",
    "- all\n",
    "- any"
   ]
  },
  {
   "cell_type": "code",
   "execution_count": null,
   "metadata": {},
   "outputs": [],
   "source": [
    "# max , min\n",
    "\n",
    "print(max(12, 14, 15, 16, 17))\n",
    "print(max(12, 12, 13))\n",
    "print(max(12, 13, 13))\n",
    "print(max([12, 13, 14, 15]))\n",
    "print(max(\"ali\", \"hossein\")) # \n",
    "\n",
    "# ascii\n",
    "# ali > Ali\n",
    "# ali\n",
    "# Ali\n",
    "# hossein\n",
    "print(max(\"ali\", \"Ali\"))\n",
    "print(max(12.1, 12.2))\n",
    "\n",
    "# True => 1, False => 0 \n",
    "print(max([True, False, False, True]))\n",
    "\n",
    "# TypeError: '>' not supported between instances of 'int' and 'str'\n",
    "# print(max(\"ali\", 98))\n"
   ]
  },
  {
   "cell_type": "code",
   "execution_count": null,
   "metadata": {},
   "outputs": [],
   "source": [
    "\n",
    "# oct, hex\n",
    "\n",
    "# 10 => A\n",
    "# 11 => B\n",
    "# 12 => C\n",
    "# 13 => D\n",
    "# 14 => E\n",
    "# 15 => F\n",
    "\n",
    "# (12) 10 -> (14) 8\n",
    "print(oct(12))\n",
    "print(hex(12))"
   ]
  },
  {
   "cell_type": "code",
   "execution_count": null,
   "metadata": {},
   "outputs": [],
   "source": [
    "\n",
    "# all of them is True => True\n",
    "# all True => True\n",
    "print(all([True, True, True, True]))\n",
    "print(all([True, True, True, False]))\n",
    "print(all([1, 2, 3, 4]))\n",
    "print(all([0, 2, 3, 4]))\n",
    "\n",
    "print(all([\"ali\", \"\", \" \"]))\n",
    "print(bool(\" \")) # space\n",
    "print(bool(\"\")) # False\n",
    "print(\"------------------\")\n",
    "\n",
    "# any\n",
    "# all False => False\n",
    "print(any([True, True, False, True]))\n",
    "print(any([False, False, False, False]))"
   ]
  },
  {
   "cell_type": "code",
   "execution_count": null,
   "metadata": {},
   "outputs": [],
   "source": [
    "# sum - summation + \n",
    "\n",
    "# summation = 0\n",
    "# summation += 1 # summation: 1\n",
    "# summation += \n",
    "# \n",
    "# 2 # summation: 3\n",
    "# summation += 3 # summation: 6\n",
    "# ...\n",
    "\n",
    "print(sum([1, 2, 3, 4, 5]))\n",
    "\n",
    "# summation = 0\n",
    "# summation += 'a' # str + int raise exception\n",
    "# TypeError: unsupported operand type(s) for +: 'int' and 'str'\n",
    "# print(sum([\"a\", \"b\", \"c\"])\n",
    "\n",
    "print(12 + True)\n",
    "print(sum([True, False, False, 12]))\n"
   ]
  }
 ],
 "metadata": {
  "interpreter": {
   "hash": "5aaead0e7235a551b85247d5b7546a09b5658f410f39e1598ecb2eb7dddcba04"
  },
  "kernelspec": {
   "display_name": "Python 3.8.3 64-bit",
   "language": "python",
   "name": "python3"
  },
  "language_info": {
   "codemirror_mode": {
    "name": "ipython",
    "version": 3
   },
   "file_extension": ".py",
   "mimetype": "text/x-python",
   "name": "python",
   "nbconvert_exporter": "python",
   "pygments_lexer": "ipython3",
   "version": "3.8.3"
  },
  "orig_nbformat": 4
 },
 "nbformat": 4,
 "nbformat_minor": 2
}
