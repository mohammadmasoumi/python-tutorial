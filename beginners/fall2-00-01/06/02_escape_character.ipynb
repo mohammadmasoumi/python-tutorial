{
 "cells": [
  {
   "cell_type": "markdown",
   "metadata": {},
   "source": [
    "# Escape character\n",
    "\n",
    "- \"\\n\" line feed\n",
    "- \"\\r\" return carriage\n",
    "- \"\\ooo\" -> octal 8\n",
    "- \"\\xHH\" -> hexadecimal 16"
   ]
  },
  {
   "cell_type": "code",
   "execution_count": null,
   "metadata": {},
   "outputs": [],
   "source": [
    "# (97) 10 -> (141) 8\n",
    "\n",
    "# int (oct) -> character\n",
    "print(\"\\141\") # \\ooo -> octal 8\n",
    "print(\"\\778\") # \\77 + 8\n",
    "print(\"\\777\") # octal [0:7]\n",
    "# int (hex) -> character\n",
    "print(\"\\x61\") # \\xHH -> hexidecimal 16"
   ]
  }
 ],
 "metadata": {
  "interpreter": {
   "hash": "5aaead0e7235a551b85247d5b7546a09b5658f410f39e1598ecb2eb7dddcba04"
  },
  "kernelspec": {
   "display_name": "Python 3.8.3 64-bit",
   "language": "python",
   "name": "python3"
  },
  "language_info": {
   "codemirror_mode": {
    "name": "ipython",
    "version": 3
   },
   "file_extension": ".py",
   "mimetype": "text/x-python",
   "name": "python",
   "nbconvert_exporter": "python",
   "pygments_lexer": "ipython3",
   "version": "3.8.3"
  },
  "orig_nbformat": 4
 },
 "nbformat": 4,
 "nbformat_minor": 2
}
