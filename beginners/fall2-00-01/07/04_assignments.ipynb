{
 "cells": [
  {
   "cell_type": "code",
   "execution_count": null,
   "metadata": {},
   "outputs": [],
   "source": [
    "# assignment 2\n",
    "# Immutable\n",
    "s = \"hello world\"\n",
    "\n",
    "# re-assignment\n",
    "s = s.replace('l', 'L')"
   ]
  },
  {
   "cell_type": "code",
   "execution_count": 5,
   "metadata": {},
   "outputs": [],
   "source": [
    "# assignment 3\n",
    "\n",
    "# pseducode\n",
    "\n",
    "# 1. get 3 numbers from input\n",
    "# 2. check if all numbers are equal to 20 => print bravo bravo\n",
    "# 3. check if at least one number is equal to 20 => bravo\n",
    "\n",
    "# 1\n",
    "a = int(input())\n",
    "b = int(input())\n",
    "c = int(input())\n",
    "\n",
    "# 2\n",
    "scores = [a == 20, b == 20, c == 20]\n",
    "\n",
    "# 3\n",
    "if all(scores):\n",
    "    print(\"bravo bravo\")\n",
    "elif any(scores):\n",
    "    print(\"bravo\")\n",
    "else:\n",
    "    print(\"Try more!\")\n"
   ]
  }
 ],
 "metadata": {
  "interpreter": {
   "hash": "58d6cfbde5f9b3a42e55d2868c9ad44954ffcba983bd3e160a10accc381d44ff"
  },
  "kernelspec": {
   "display_name": "Python 3.9.8 64-bit",
   "language": "python",
   "name": "python3"
  },
  "language_info": {
   "codemirror_mode": {
    "name": "ipython",
    "version": 3
   },
   "file_extension": ".py",
   "mimetype": "text/x-python",
   "name": "python",
   "nbconvert_exporter": "python",
   "pygments_lexer": "ipython3",
   "version": "3.9.8"
  },
  "orig_nbformat": 4
 },
 "nbformat": 4,
 "nbformat_minor": 2
}
