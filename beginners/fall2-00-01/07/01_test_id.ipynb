{
 "cells": [
  {
   "cell_type": "code",
   "execution_count": 1,
   "metadata": {},
   "outputs": [
    {
     "name": "stdout",
     "output_type": "stream",
     "text": [
      "False\n",
      "True\n"
     ]
    }
   ],
   "source": [
    "a = 899\n",
    "b = 899\n",
    "\n",
    "print(id(a))\n",
    "print(id(b))\n",
    "\n",
    "# id(a) == id(b)\n",
    "print(a is b)\n",
    "print(a == b)\n"
   ]
  }
 ],
 "metadata": {
  "interpreter": {
   "hash": "5aaead0e7235a551b85247d5b7546a09b5658f410f39e1598ecb2eb7dddcba04"
  },
  "kernelspec": {
   "display_name": "Python 3.8.3 64-bit",
   "language": "python",
   "name": "python3"
  },
  "language_info": {
   "codemirror_mode": {
    "name": "ipython",
    "version": 3
   },
   "file_extension": ".py",
   "mimetype": "text/x-python",
   "name": "python",
   "nbconvert_exporter": "python",
   "pygments_lexer": "ipython3",
   "version": "3.8.3"
  },
  "orig_nbformat": 4
 },
 "nbformat": 4,
 "nbformat_minor": 2
}
