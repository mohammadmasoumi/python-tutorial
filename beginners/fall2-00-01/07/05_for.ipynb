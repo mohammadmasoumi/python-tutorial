{
 "cells": [
  {
   "cell_type": "markdown",
   "metadata": {},
   "source": [
    "# for loop\n",
    "\n",
    "A `for` loop is used for iterating over a sequence (that is either a list, a tuple, a dictionary, a set, or a string).\n",
    "\n",
    "This is less like the for keyword in other programming languages, and works more like an iterator method as found in other object-orientated programming languages.\n",
    "\n",
    "With the for loop we can execute a set of statements, once for each item in a list, tuple, set etc."
   ]
  },
  {
   "cell_type": "code",
   "execution_count": null,
   "metadata": {},
   "outputs": [],
   "source": [
    "my_list = [1, 2, 3, 4]\n",
    "\n",
    "\n",
    "# item is a varialbe \n",
    "# feel free to use other variable name such as elem, i, ...\n",
    "\n",
    "for item in my_list:\n",
    "    print(item)\n"
   ]
  },
  {
   "cell_type": "code",
   "execution_count": null,
   "metadata": {},
   "outputs": [],
   "source": [
    "# python uses index to iterating over squence \n",
    "\n",
    "\n",
    "# pointer iterate over list and meet each element\n",
    "#                   *\n",
    "#                *\n",
    "#             *\n",
    "#          *\n",
    "my_list = [1, 2, 3, 4]\n",
    "\n",
    "\n",
    "# item is a varialbe \n",
    "# feel free to use other variable name such as elem, i, ...\n",
    "\n",
    "for item in my_list:\n",
    "    print(item)"
   ]
  },
  {
   "cell_type": "code",
   "execution_count": null,
   "metadata": {},
   "outputs": [],
   "source": [
    "# python uses index to iterating over squence \n",
    "\n",
    "# pointer iterate over list and meet each element\n",
    "my_list = [1, 2, 3, 4]\n",
    "\n",
    "\n",
    "# item is a varialbe \n",
    "# feel free to use other variable name such as elem, i, ...\n",
    "\n",
    "# به ازای هر المان داخل لیست بلاک کد داخل لوپ اجرا میشود.\n",
    "\n",
    "for item in my_list:\n",
    "    # [ROUND1]: item = 1\n",
    "    # [ROUND2]: item = 2\n",
    "    # [ROUND3]: item = 3\n",
    "    # [ROUND4]: item = 4\n",
    "    print(item)\n",
    "\n",
    "    # at the end of the loop, pointer move forward and item's value will be changed to 2 \n"
   ]
  },
  {
   "cell_type": "markdown",
   "metadata": {},
   "source": [
    "# Changing list during iteration"
   ]
  },
  {
   "cell_type": "markdown",
   "metadata": {},
   "source": [
    "## Append"
   ]
  },
  {
   "cell_type": "code",
   "execution_count": null,
   "metadata": {},
   "outputs": [],
   "source": [
    "# Do not execute this code block\n",
    "\n",
    "my_list = [1, 2, 3, 4]\n",
    "\n",
    "\n",
    "# index: 0, my_list: [1, 2, 3, 4], item: 1 \n",
    "\n",
    "# infinite loop\n",
    "for item in my_list:\n",
    "    #[ROUND1][BEFORE]: index: 0, my_list: [1, 2, 3, 4], item: 1\n",
    "    #[ROUND2][BEFORE]: index: 1, my_list: [1, 2, 3, 4, 1], item: 2\n",
    "    #[ROUND3][BEFORE]: index: 2, my_list: [1, 2, 3, 4, 1, 2], item: 3\n",
    "    #[ROUND4][BEFORE]: index: 3, my_list: [1, 2, 3, 4, 1, 2, 3], item: 4\n",
    "    #[ROUND5][BEFORE]: index: 4, my_list: [1, 2, 3, 4, 1, 2, 3, 4], item: 1\n",
    "    #[ROUND6][BEFORE]: index: 5, my_list: [1, 2, 3, 4, 1, 2, 3, 4, 1], item: 2\n",
    "    # ...\n",
    "\n",
    "    my_list.append(item)\n",
    "\n",
    "    #[ROUND1][AFTER]: index: 0, my_list: [1, 2, 3, 4, 1], item: 1\n",
    "    #[ROUND2][AFTER]: index: 1, my_list: [1, 2, 3, 4, 1, 2], item: 2\n",
    "    #[ROUND3][AFTER]: index: 2, my_list: [1, 2, 3, 4, 1, 2, 3], item: 3\n",
    "    #[ROUND4][AFTER]: index: 3, my_list: [1, 2, 3, 4, 1, 2, 3, 4], item: 4\n",
    "    #[ROUND5][AFTER]: index: 4, my_list: [1, 2, 3, 4, 1, 2, 3, 4, 1], item: 1\n",
    "    #[ROUND6][AFTER]: index: 5, my_list: [1, 2, 3, 4, 1, 2, 3, 4, 1, 2], item: 2\n",
    "    # ...\n",
    "\n",
    "    print(my_list)\n"
   ]
  },
  {
   "cell_type": "code",
   "execution_count": null,
   "metadata": {},
   "outputs": [],
   "source": [
    "# Safe to execute\n",
    "\n",
    "from time import sleep\n",
    "\n",
    "my_list = [1, 2, 3, 4]\n",
    "\n",
    "# sentinel variables\n",
    "counter = 0\n",
    "threshold = 1000\n",
    "\n",
    "# infinite loop\n",
    "for item in my_list:\n",
    "    #[ROUND1][BEFORE]\n",
    "\n",
    "    my_list.append(item)\n",
    "\n",
    "    # slow down code \n",
    "    sleep(1) # sleep to 1 sec\n",
    "\n",
    "    # my_list grows as index grows\n",
    "    print(my_list)\n",
    "\n",
    "    # stop loop if counter meets threshold\n",
    "    if counter == threshold:\n",
    "        break\n",
    "    \n",
    "    counter += 1\n"
   ]
  },
  {
   "cell_type": "markdown",
   "metadata": {},
   "source": [
    "# Behind the scene!\n",
    "\n",
    "\n",
    "`my_list` grows as `index` rises. they will never meet each other, so infinitive loop!\n",
    "\n",
    " - [ROUND1] ```index: 0,  -----   my_list[BEFORE APPEND]: [1, 2, 3, 4],                -----  item(my_list[index]): 1```\n",
    " - [ROUND2] ```index: 1,  -----   my_list[BEFORE APPEND]: [1, 2, 3, 4, 1],             -----  item(my_list[index]): 2```\n",
    " - [ROUND3] ```index: 2,  -----   my_list[BEFORE APPEND]: [1, 2, 3, 4, 1, 2],          -----  item(my_list[index]): 3```\n",
    " - [ROUND4] ```index: 3,  -----   my_list[BEFORE APPEND]: [1, 2, 3, 4, 1, 2, 3],       -----  item(my_list[index]): 4```\n",
    " - [ROUND5] ```index: 4,  -----   my_list[BEFORE APPEND]: [1, 2, 3, 4, 1, 2, 3, 4],    -----  item(my_list[index]): 1```\n",
    " - ...\n",
    "\n"
   ]
  },
  {
   "cell_type": "code",
   "execution_count": null,
   "metadata": {},
   "outputs": [],
   "source": [
    "# Do not execute this code block\n",
    "\n",
    "my_list = [1, 2, 3, 4]\n",
    "\n",
    "\n",
    "# index: 0, my_list: [1, 2, 3, 4], item: 1 \n",
    "\n",
    "# infinite loop\n",
    "for item in my_list:\n",
    "    #[ROUND1][BEFORE]: index: 0, my_list: [1, 2, 3, 4], item: 1\n",
    "    #[ROUND2][BEFORE]: index: 1, my_list: [1, 2, 3, 4, 1], item: 2\n",
    "    #[ROUND3][BEFORE]: index: 2, my_list: [1, 2, 3, 4, 1, 2], item: 3\n",
    "    #[ROUND4][BEFORE]: index: 3, my_list: [1, 2, 3, 4, 1, 2, 3], item: 4\n",
    "    #[ROUND5][BEFORE]: index: 4, my_list: [1, 2, 3, 4, 1, 2, 3, 4], item: 1\n",
    "    #[ROUND6][BEFORE]: index: 5, my_list: [1, 2, 3, 4, 1, 2, 3, 4, 1], item: 2\n",
    "    # ...\n",
    "\n",
    "    my_list.append(item)\n",
    "\n",
    "    #[ROUND1][AFTER]: index: 0, my_list: [1, 2, 3, 4, 1], item: 1\n",
    "    #[ROUND2][AFTER]: index: 1, my_list: [1, 2, 3, 4, 1, 2], item: 2\n",
    "    #[ROUND3][AFTER]: index: 2, my_list: [1, 2, 3, 4, 1, 2, 3], item: 3\n",
    "    #[ROUND4][AFTER]: index: 3, my_list: [1, 2, 3, 4, 1, 2, 3, 4], item: 4\n",
    "    #[ROUND5][AFTER]: index: 4, my_list: [1, 2, 3, 4, 1, 2, 3, 4, 1], item: 1\n",
    "    #[ROUND6][AFTER]: index: 5, my_list: [1, 2, 3, 4, 1, 2, 3, 4, 1, 2], item: 2\n",
    "    # ...\n",
    "\n",
    "    print(item, my_list)"
   ]
  },
  {
   "cell_type": "markdown",
   "metadata": {},
   "source": [
    "## Remove"
   ]
  },
  {
   "cell_type": "code",
   "execution_count": null,
   "metadata": {},
   "outputs": [],
   "source": [
    "my_list = [1, 2, 3, 4]\n",
    "\n",
    "# index: 0, my_list: [1, 2, 3, 4], item: 1 \n",
    "\n",
    "# infinite loop\n",
    "\n",
    "\n",
    "for item in my_list:\n",
    "    #[ROUND1][BEFORE]: index: 0, my_list: [1, 2, 3, 4], item: 1, my_list[0]: 1\n",
    "    #[ROUND2][BEFORE]: index: 1, my_list: [2, 3, 4], item: 3, my_list[1]: 3\n",
    "    #[ROUND3][BEFORE]: index: 2, my_list: [2, 4], item: ? STOP ITERATION\n",
    "\n",
    "    my_list.remove(item)\n",
    "\n",
    "    #[ROUND1][AFTER]: index: 0, my_list: [2, 3, 4], item: 1, my_list[0]: 1\n",
    "    #[ROUND2][AFTER]: index: 1, my_list: [2, 4], item: 3, my_list[1]: 3\n",
    "\n",
    "    print(item, my_list)\n",
    "\n",
    "\n",
    "print(my_list) # [2, 4]"
   ]
  },
  {
   "cell_type": "markdown",
   "metadata": {},
   "source": [
    "# Behind the scene!\n",
    "\n",
    "\n",
    "`my_list` shrinks as `index` rises. so we will miss some items in the `my_list`\n",
    "\n",
    " - [ROUND1] ```index: 0,  -----   my_list[BEFORE REMOVE]: [1, 2, 3, 4],    -----  item(my_list[index]): 1```\n",
    " - [ROUND2] ```index: 1,  -----   my_list[BEFORE REMOVE]: [2, 3, 4],       -----  item(my_list[index]): 3```\n",
    " - [ROUND3] ```index: 2,  -----   my_list[BEFORE REMOVE]: [2, 4],          -----  item(my_list[index]): NO ITEM AT INDEX OF 2, STOP ITERATION```\n",
    "\n"
   ]
  }
 ],
 "metadata": {
  "interpreter": {
   "hash": "74afa6d18a5a39b8ce421aa98b1f4815a7471d239139e74ddf28af6a52ab835f"
  },
  "kernelspec": {
   "display_name": "Python 3.8.10 64-bit ('base': conda)",
   "language": "python",
   "name": "python3"
  },
  "language_info": {
   "codemirror_mode": {
    "name": "ipython",
    "version": 3
   },
   "file_extension": ".py",
   "mimetype": "text/x-python",
   "name": "python",
   "nbconvert_exporter": "python",
   "pygments_lexer": "ipython3",
   "version": "3.8.10"
  },
  "orig_nbformat": 4
 },
 "nbformat": 4,
 "nbformat_minor": 2
}
