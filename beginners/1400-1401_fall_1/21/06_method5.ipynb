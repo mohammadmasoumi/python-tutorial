{
 "cells": [
  {
   "cell_type": "code",
   "execution_count": null,
   "metadata": {},
   "outputs": [],
   "source": [
    "def method(a, b):\n",
    "    print(f\"a: {a}, b: {b}\")\n",
    "    return a + b\n",
    "\n",
    "\n",
    "print(method(12, 13)) # ترتیب\n",
    "print(method(13, 12))\n",
    "print(method(b=12, a=13)) # بدون ترتیب"
   ]
  },
  {
   "cell_type": "code",
   "execution_count": null,
   "metadata": {},
   "outputs": [],
   "source": [
    "def method(*, a, b):\n",
    "    print(f\"a: {a}, b: {b}\")\n",
    "    return a + b\n",
    "\n",
    "#  method() takes 0 positional arguments but 2 were given\n",
    "# print(method(12, 13)) # ترتیب\n",
    "# print(method(13, 12))\n",
    "print(method(b=12, a=13)) # بدون ترتیب\n",
    "print(method(a=12, b=13)) # بدون ترتیب"
   ]
  },
  {
   "cell_type": "code",
   "execution_count": null,
   "metadata": {},
   "outputs": [],
   "source": [
    "\n",
    "# [BEFORE] you do not need to call it with key values\n",
    "# [AFTER] force you to call with key value        \n",
    "def method(c, *, a, b):\n",
    "    print(f\"a: {a}, b: {b}, c: {c}\")\n",
    "    return a + b + c\n",
    "\n",
    "#  method() takes 0 positional arguments but 2 were given\n",
    "# print(method(12, 13)) # ترتیب\n",
    "# print(method(13, 12))\n",
    "print(method(12, b=12, a=13)) # بدون ترتیب\n",
    "print(method(20, a=12, b=13)) # بدون ترتیب"
   ]
  },
  {
   "cell_type": "code",
   "execution_count": null,
   "metadata": {},
   "outputs": [],
   "source": [
    "from random import randint\n",
    "\n",
    "for _ in range(1000):\n",
    "    print(randint(0, 10))"
   ]
  }
 ],
 "metadata": {
  "interpreter": {
   "hash": "5a880ef361d6e9478119933b4bf4ab122d795077cfcec491d1b396d17d82fee9"
  },
  "kernelspec": {
   "display_name": "Python 3.8.8 64-bit",
   "language": "python",
   "name": "python3"
  },
  "language_info": {
   "codemirror_mode": {
    "name": "ipython",
    "version": 3
   },
   "file_extension": ".py",
   "mimetype": "text/x-python",
   "name": "python",
   "nbconvert_exporter": "python",
   "pygments_lexer": "ipython3",
   "version": "3.8.8"
  },
  "orig_nbformat": 4
 },
 "nbformat": 4,
 "nbformat_minor": 2
}
