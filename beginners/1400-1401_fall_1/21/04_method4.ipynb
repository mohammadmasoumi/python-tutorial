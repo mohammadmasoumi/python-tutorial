{
 "cells": [
  {
   "cell_type": "code",
   "execution_count": null,
   "metadata": {},
   "outputs": [],
   "source": [
    "def add(a, b):\n",
    "    c = a +  b * 10\n",
    "    d = c * 10 + 20\n",
    "\n",
    "    return d\n",
    "\n",
    "# functiion_name() => call function\n",
    "print(add(12 , 13))\n",
    "print(add(12 , 10))\n",
    "print(add(12 , 10))\n",
    "print(add(12 , 10))\n",
    "print(add(12 , 10))\n",
    "\n",
    "# c = a +  b * 10\n",
    "# d = c * 10 + 20\n",
    "\n",
    "# c = a +  b * 10\n",
    "# d = c * 10 + 20"
   ]
  },
  {
   "cell_type": "code",
   "execution_count": 2,
   "metadata": {},
   "outputs": [
    {
     "name": "stdout",
     "output_type": "stream",
     "text": [
      "(1.2, 2)\n",
      "(1.2, 2)\n"
     ]
    }
   ],
   "source": [
    "# mulple return\n",
    "\n",
    "# return a, b, c , d ...\n",
    "\n",
    "def divmod(a, b):\n",
    "    return a / b, a % b # tuple\n",
    "\n",
    "c = divmod(12 , 10)\n",
    "\n",
    "print(c)\n",
    "print(        divmod(12 , 10)           )\n",
    "# print(         a / b, a % b          )\n"
   ]
  },
  {
   "cell_type": "code",
   "execution_count": null,
   "metadata": {},
   "outputs": [],
   "source": [
    "# mulple return\n",
    "\n",
    "# return a, b, c , d ...\n",
    "\n",
    "def divmod(a, b):\n",
    "    return a / b, a % b # tuple\n",
    "\n",
    "# c, d = (1.2, 2) # unpacking\n",
    "c, d  = divmod(12 , 10) # (1.2, 2)\n",
    "\n",
    "print(f\"cL {c}, d: {d}\")\n"
   ]
  },
  {
   "cell_type": "code",
   "execution_count": 3,
   "metadata": {},
   "outputs": [
    {
     "name": "stdout",
     "output_type": "stream",
     "text": [
      "a: 1, b: 2\n"
     ]
    }
   ],
   "source": [
    "a, b = [1, 2]\n",
    "\n",
    "print(f\"a: {a}, b: {b}\")"
   ]
  },
  {
   "cell_type": "code",
   "execution_count": 6,
   "metadata": {},
   "outputs": [
    {
     "name": "stdout",
     "output_type": "stream",
     "text": [
      "name: mohammad\n",
      "name: mohammad\n"
     ]
    }
   ],
   "source": [
    "# a, b = [1, 2, 3]\n",
    "\n",
    "# print(f\"a: {a}, b: {b}\")\n",
    "\n",
    "name = \"mohammad\"\n",
    "\n",
    "# name: mohammad\n",
    "print(\"name: \" + name)\n",
    "print(f\"name: {name}\")"
   ]
  }
 ],
 "metadata": {
  "interpreter": {
   "hash": "5a880ef361d6e9478119933b4bf4ab122d795077cfcec491d1b396d17d82fee9"
  },
  "kernelspec": {
   "display_name": "Python 3.8.8 64-bit",
   "language": "python",
   "name": "python3"
  },
  "language_info": {
   "codemirror_mode": {
    "name": "ipython",
    "version": 3
   },
   "file_extension": ".py",
   "mimetype": "text/x-python",
   "name": "python",
   "nbconvert_exporter": "python",
   "pygments_lexer": "ipython3",
   "version": "3.8.8"
  },
  "orig_nbformat": 4
 },
 "nbformat": 4,
 "nbformat_minor": 2
}
