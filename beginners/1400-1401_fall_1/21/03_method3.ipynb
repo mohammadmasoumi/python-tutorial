{
 "cells": [
  {
   "cell_type": "code",
   "execution_count": null,
   "metadata": {},
   "outputs": [],
   "source": [
    "a = 12\n",
    "\n",
    "# pass object refrence by value\n",
    "def method(b):\n",
    "    # b = a\n",
    "    # id(b) == id(a)\n",
    "    print(f\"a1: {id(b)}\")  \n",
    "    b += 1\n",
    "    print(f\"a2: {id(b)}\")    \n",
    "    print(b)\n",
    "\n",
    "# print(method(a))\n",
    "# 1234\n",
    "print(f\"a0: {id(a)}\")\n",
    "method(a)\n",
    "print(f\"a4: {id(a)}\")"
   ]
  },
  {
   "cell_type": "code",
   "execution_count": null,
   "metadata": {},
   "outputs": [],
   "source": [
    "# pass by reference\n",
    "\n",
    "a = [] \n",
    "\n",
    "def method(a):\n",
    "    print(f\"a1: {id(a)}\")  \n",
    "    a.append(12)\n",
    "    print(f\"a2: {id(a)}\")  \n",
    "\n",
    "    print(f\"IN: {a}\")\n",
    "\n",
    "# print(method(a)) \n",
    "print(f\"a0: {id(a)}\")  \n",
    "print(f\"BEFORE: {a}\")\n",
    "\n",
    "method(a)\n",
    "\n",
    "print(f\"a3: {id(a)}\")  \n",
    "print(f\"AFTER: {a}\")\n"
   ]
  },
  {
   "cell_type": "code",
   "execution_count": null,
   "metadata": {},
   "outputs": [],
   "source": [
    "# pass by reference\n",
    "a = [] # mutable\n",
    "\n",
    "def method(a):\n",
    "    \n",
    "    a.append(12)\n",
    "\n",
    "# print(method(a)) \n",
    "method(a)"
   ]
  }
 ],
 "metadata": {
  "interpreter": {
   "hash": "5a880ef361d6e9478119933b4bf4ab122d795077cfcec491d1b396d17d82fee9"
  },
  "kernelspec": {
   "display_name": "Python 3.8.8 64-bit",
   "language": "python",
   "name": "python3"
  },
  "language_info": {
   "codemirror_mode": {
    "name": "ipython",
    "version": 3
   },
   "file_extension": ".py",
   "mimetype": "text/x-python",
   "name": "python",
   "nbconvert_exporter": "python",
   "pygments_lexer": "ipython3",
   "version": "3.8.8"
  },
  "orig_nbformat": 4
 },
 "nbformat": 4,
 "nbformat_minor": 2
}
