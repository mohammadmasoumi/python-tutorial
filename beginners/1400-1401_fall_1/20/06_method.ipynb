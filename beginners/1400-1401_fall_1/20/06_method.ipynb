{
 "cells": [
  {
   "cell_type": "markdown",
   "metadata": {},
   "source": [
    "# function / method\n",
    "\n",
    "keyword: def\n",
    "\n",
    "\n",
    "(x, y, z, ...)---> f ---> (a, b, c)\n",
    "\n",
    "None\n",
    "\n",
    "\n",
    "inputs x, y, z \n",
    "output a, b, c (mutilple return)\n",
    "\n",
    "```python\n",
    "def function_name(params):\n",
    "    # code block\n",
    "\n",
    "    return variables\n",
    "    return\n",
    "    # return\n",
    "```\n",
    "\n",
    "\n",
    "### usage\n",
    "\n",
    " - break down code to logical sections\n",
    " - resuability - باز استفاده از یک تکه کد"
   ]
  },
  {
   "cell_type": "code",
   "execution_count": null,
   "metadata": {},
   "outputs": [],
   "source": [
    "def calc_circle_masahat(shoa):\n",
    "    # code block\n",
    "    masahat = 3.14 * shoa ** 2\n",
    "    return masahat\n",
    "\n",
    "\"\"\"\n",
    "fog\n",
    "\n",
    "g(x) = x ** 2\n",
    "f(x) = x\n",
    "\n",
    "f(g(x)) -> f(x ** 2)\n",
    "\n",
    "f(g(2)) \n",
    "g(2) = 4\n",
    "f(4) = 4\n",
    "\n",
    "f(g(x))  -> g(x) = ? -> f(?)\n",
    "\"\"\"\n",
    "\n",
    "# f            g\n",
    "# print(12.64)\n",
    "print(calc_circle_masahat(2))\n",
    "print(calc_circle_masahat(3))\n",
    "\n",
    "a = calc_circle_masahat(4)\n",
    "print(a)"
   ]
  },
  {
   "cell_type": "code",
   "execution_count": null,
   "metadata": {},
   "outputs": [],
   "source": [
    "def print_hello():\n",
    "    # no input and no output\n",
    "    print(\"Hello\")\n",
    "    # no return keyword\n",
    "    # return None\n",
    "\n",
    "# print_hello()\n",
    "# print_hello()\n",
    "\n",
    "# print(None)\n",
    "print(print_hello())"
   ]
  },
  {
   "cell_type": "code",
   "execution_count": null,
   "metadata": {},
   "outputs": [],
   "source": [
    "def multiple_by_two(a):\n",
    "    return a * 2\n",
    "\n",
    "def zarb_dar_du(a):\n",
    "    return a * 2\n",
    "\n",
    "adad = int(input())\n",
    "print(zarb_dar_du(adad))\n",
    "print(multiple_by_two(adad))"
   ]
  },
  {
   "cell_type": "code",
   "execution_count": null,
   "metadata": {},
   "outputs": [],
   "source": [
    "a = 12\n",
    "b = 12\n",
    "\n",
    "c = 1000\n",
    "d = 1000\n",
    "\n",
    "# -5 , 255 -> the same id\n",
    "print(id(a))\n",
    "print(id(b))\n",
    "\n",
    "print(id(c))\n",
    "print(id(d))\n",
    "\n",
    "\n",
    "a1 = \"ali\"\n",
    "b1 = \"ali\"\n",
    "\n",
    "print(id(a1))\n",
    "print(id(b1))"
   ]
  },
  {
   "cell_type": "code",
   "execution_count": null,
   "metadata": {},
   "outputs": [],
   "source": [
    "def my_func(a):\n",
    "    print(\"1\", id(a))\n",
    "\n",
    "    a = 13\n",
    "    \n",
    "    print(\"2\", id(a))\n",
    "\n",
    "# call\n",
    "# invoke\n",
    "a = 12\n",
    "print(\"0\", id(a))\n",
    "my_func(a) # immutable\n",
    "\n",
    "print(a)\n"
   ]
  }
 ],
 "metadata": {
  "interpreter": {
   "hash": "5a880ef361d6e9478119933b4bf4ab122d795077cfcec491d1b396d17d82fee9"
  },
  "kernelspec": {
   "display_name": "Python 3.8.8 64-bit",
   "language": "python",
   "name": "python3"
  },
  "language_info": {
   "codemirror_mode": {
    "name": "ipython",
    "version": 3
   },
   "file_extension": ".py",
   "mimetype": "text/x-python",
   "name": "python",
   "nbconvert_exporter": "python",
   "pygments_lexer": "ipython3",
   "version": "3.8.8"
  },
  "orig_nbformat": 4
 },
 "nbformat": 4,
 "nbformat_minor": 2
}
