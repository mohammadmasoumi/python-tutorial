{
 "cells": [
  {
   "cell_type": "markdown",
   "metadata": {},
   "source": [
    "# Virtual env\n",
    "\n",
    "\n",
    "1. create venv\n",
    "```\n",
    "# python -m venv (virtual env name)\n",
    "python -m venv venv\n",
    "```\n",
    "\n",
    "2. activate venv\n",
    "\n",
    "open CMD\n",
    "command:\n",
    "\n",
    " - cd (directory name) (move forward)\n",
    " - cd .. (move backward)\n",
    " - dir (show directories in current location)\n",
    "\n",
    "```bash\n",
    "\\.venv\\Scripts\\activate (activate)\n",
    "deactivate (deactivate)\n",
    "```\n",
    "\n",
    "3. pip\n",
    "\n",
    "pip is python package manager.\n",
    "you can install libraries from there.\n",
    "\n",
    "\n",
    "```\n",
    "pip install (package name)\n",
    "pip freeze (show installed packages)\n",
    "pip freeze > requirements.txt (write installed packages into requirements.txt)\n",
    "pip freeze > asghar.txt \n",
    "pip install -r requirements.txt (install packages from file)\n",
    "```\n"
   ]
  },
  {
   "cell_type": "code",
   "execution_count": null,
   "metadata": {},
   "outputs": [],
   "source": [
    "\n",
    "a = 12\n",
    "print(isinstance(a, int))\n",
    "print(isinstance(a, str))"
   ]
  }
 ],
 "metadata": {
  "interpreter": {
   "hash": "5a880ef361d6e9478119933b4bf4ab122d795077cfcec491d1b396d17d82fee9"
  },
  "kernelspec": {
   "display_name": "Python 3.8.8 64-bit",
   "language": "python",
   "name": "python3"
  },
  "language_info": {
   "codemirror_mode": {
    "name": "ipython",
    "version": 3
   },
   "file_extension": ".py",
   "mimetype": "text/x-python",
   "name": "python",
   "nbconvert_exporter": "python",
   "pygments_lexer": "ipython3",
   "version": "3.8.8"
  },
  "orig_nbformat": 4
 },
 "nbformat": 4,
 "nbformat_minor": 2
}
