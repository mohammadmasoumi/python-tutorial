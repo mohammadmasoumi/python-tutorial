{
 "cells": [
  {
   "cell_type": "markdown",
   "metadata": {},
   "source": [
    "# Merge to dict"
   ]
  },
  {
   "cell_type": "code",
   "execution_count": null,
   "metadata": {},
   "outputs": [],
   "source": [
    "d1 ={'a': 1, 'b': 2}\n",
    "d2 = {'a': 2, 'c': 3}\n",
    "\n",
    "# merge d2 to d1\n",
    "# d2.update(d1)\n",
    "d1.update(d2) \n",
    "\n",
    "# d1.update(d2) \n",
    "# {'a': 1, 'b': 2}\n",
    "# {'a': 1, 'b': 2, 'a': 2, 'c': 3}\n",
    "# {'b': 2, 'a': 2, 'c': 3}\n",
    "\n",
    "# d2.update(d1)\n",
    "# {'a': 2, 'c': 3}\n",
    "# {'a': 2, 'c': 3, 'a': 1, 'b': 2}\n",
    "# {'c': 3, 'a': 1, 'b': 2}\n",
    "\n",
    "print(d2)\n",
    "print(d1)"
   ]
  },
  {
   "cell_type": "code",
   "execution_count": null,
   "metadata": {},
   "outputs": [],
   "source": [
    "d1 = {'a': 1, 'b': 2}\n",
    "d2 = {'a': 2, 'c': 3}\n",
    "\n",
    "\n",
    "# update/add\n",
    "for key, value in d2.items():\n",
    "    # print(key, value)\n",
    "    # add / update\n",
    "    d1[key] = value\n",
    "\n",
    "print(d1)"
   ]
  },
  {
   "cell_type": "code",
   "execution_count": null,
   "metadata": {},
   "outputs": [],
   "source": [
    "d1 = {'a': 1, 'b': 2}\n",
    "d2 = {'a': 2, 'c': 3}\n",
    "\n",
    "# copy\n",
    "d3 = {**d1}\n",
    "\n",
    "print(d3)\n",
    "print(id(d1))\n",
    "print(id(d3))"
   ]
  },
  {
   "cell_type": "code",
   "execution_count": null,
   "metadata": {},
   "outputs": [],
   "source": [
    "d1 = {'a': 1, 'b': 2}\n",
    "d2 = {'a': 2, 'c': 3}\n",
    "\n",
    "d3 = {**d1, **d2}\n",
    "d4 = {**d2, **d1}\n",
    "\n",
    "print(d3)\n",
    "print(d4)"
   ]
  },
  {
   "cell_type": "markdown",
   "metadata": {},
   "source": [
    "# unpacking & packing"
   ]
  },
  {
   "cell_type": "code",
   "execution_count": null,
   "metadata": {},
   "outputs": [],
   "source": [
    "# unpacking\n",
    "my_list = [1, 2, 3, 4, 5]\n",
    "\n",
    "print(1, 2, 3, 4, 5, sep=\"*\")\n",
    "print(*my_list, sep=\"*\")\n",
    "\n",
    "\n",
    "# a -> 1\n",
    "# b -> [2, 3]\n",
    "# c -> 4\n",
    "# packing\n",
    "a, *b, c = my_list\n",
    "# a, *b, *c, d= my_list\n",
    "\n",
    "# a1 -> 1\n",
    "# b1 -> [2, 3, 4, 5]\n",
    "a1, *b1 = my_list\n",
    "\n",
    "print(f\"a: {a}\")\n",
    "print(f\"b: {b}\")\n",
    "print(f\"c: {c}\")\n",
    "\n",
    "print(\"----------\")\n",
    "print(f\"a1: {a1}\")\n",
    "print(f\"b1: {b1}\")"
   ]
  }
 ],
 "metadata": {
  "interpreter": {
   "hash": "5a880ef361d6e9478119933b4bf4ab122d795077cfcec491d1b396d17d82fee9"
  },
  "kernelspec": {
   "display_name": "Python 3.8.8 64-bit",
   "language": "python",
   "name": "python3"
  },
  "language_info": {
   "codemirror_mode": {
    "name": "ipython",
    "version": 3
   },
   "file_extension": ".py",
   "mimetype": "text/x-python",
   "name": "python",
   "nbconvert_exporter": "python",
   "pygments_lexer": "ipython3",
   "version": "3.8.8"
  },
  "orig_nbformat": 4
 },
 "nbformat": 4,
 "nbformat_minor": 2
}
