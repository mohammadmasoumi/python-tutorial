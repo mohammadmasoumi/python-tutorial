{
 "cells": [
  {
   "cell_type": "markdown",
   "metadata": {},
   "source": [
    "# fstring"
   ]
  },
  {
   "cell_type": "code",
   "execution_count": null,
   "metadata": {},
   "outputs": [],
   "source": [
    "import math\n",
    "\n",
    "a = 6\n",
    "b = 13\n",
    "c = \"ali\"\n",
    "\n",
    "print(f\"name: {c}\") # curly braces\n",
    "\n",
    "# f\"{a: 02}\" -> 6 (Wrong!)\n",
    "print(f\"{a:02}\") # 06\n",
    "print(f\"{a:03}\") # 006\n",
    "print(f\"{b:03}\") # 013\n",
    "\n",
    "\n",
    "# float - precise\n",
    "print(f\"{12.0927148932642386:.2f}\")\n",
    "print(f\"{math.pi:.4f}\")\n",
    "\n",
    "# format\n",
    "name = \"name:\"\n",
    "print(f\"{name: >10}\") # ------name:\n",
    "print(f\"{name: <10}\") # name:------\n",
    "\n",
    "\n",
    "print(f\"{name: <10}-{'ali'}\")\n",
    "print(f\"{name: <10}-{'hassan'}\")\n",
    "\n",
    "print(len(\"     \"))"
   ]
  }
 ],
 "metadata": {
  "interpreter": {
   "hash": "5a880ef361d6e9478119933b4bf4ab122d795077cfcec491d1b396d17d82fee9"
  },
  "kernelspec": {
   "display_name": "Python 3.8.8 64-bit",
   "language": "python",
   "name": "python3"
  },
  "language_info": {
   "codemirror_mode": {
    "name": "ipython",
    "version": 3
   },
   "file_extension": ".py",
   "mimetype": "text/x-python",
   "name": "python",
   "nbconvert_exporter": "python",
   "pygments_lexer": "ipython3",
   "version": "3.8.8"
  },
  "orig_nbformat": 4
 },
 "nbformat": 4,
 "nbformat_minor": 2
}
