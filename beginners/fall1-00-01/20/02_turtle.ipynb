{
 "cells": [
  {
   "cell_type": "code",
   "execution_count": 1,
   "metadata": {},
   "outputs": [],
   "source": [
    "import turtle\n",
    "\n",
    "t = turtle.Turtle()\n",
    "s = turtle.Screen()\n",
    "\n",
    "\n",
    "s.bgcolor('black')\n",
    "t.speed(10)\n",
    "col = ['yellow', 'red', 'white', 'green']\n",
    "\n",
    "c = 0\n",
    "for i in range(50):\n",
    "    t.forward(i * 10)\n",
    "    t.right(144)\n",
    "    \n",
    "    t.color(col[c])\n",
    "\n",
    "    if c == 3:\n",
    "        c = 0\n",
    "    else:\n",
    "        c += 1\n"
   ]
  },
  {
   "cell_type": "markdown",
   "metadata": {},
   "source": [
    "# Create virtual env\n"
   ]
  }
 ],
 "metadata": {
  "interpreter": {
   "hash": "2593801d6c2ac9455c8c570e302357cfed0591358dfabfd82bdc4e8e4faea34a"
  },
  "kernelspec": {
   "display_name": "Python 3.8.8 64-bit ('venv': venv)",
   "language": "python",
   "name": "python3"
  },
  "language_info": {
   "codemirror_mode": {
    "name": "ipython",
    "version": 3
   },
   "file_extension": ".py",
   "mimetype": "text/x-python",
   "name": "python",
   "nbconvert_exporter": "python",
   "pygments_lexer": "ipython3",
   "version": "3.8.8"
  },
  "orig_nbformat": 4
 },
 "nbformat": 4,
 "nbformat_minor": 2
}
