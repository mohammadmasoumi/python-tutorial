{
 "cells": [
  {
   "cell_type": "code",
   "execution_count": null,
   "metadata": {},
   "outputs": [],
   "source": [
    "print(\"Hello world\")"
   ]
  },
  {
   "cell_type": "markdown",
   "metadata": {},
   "source": [
    "# Markdown\n",
    "\n",
    "# Header 1\n",
    "\n",
    "## Header 2\n",
    "\n",
    "### Header 3\n",
    "\n",
    "#### Header 4\n",
    "\n",
    "##### Header 5\n",
    "\n",
    "###### Header 6\n",
    "\n",
    "\n",
    "\n",
    " - item 1\n",
    " - item 2\n",
    " - item 3\n",
    "\n",
    "\n",
    "**Bold**\n",
    "\n",
    "*itelic*\n",
    "\n",
    "This ia a python program:\n",
    "\n",
    "```python\n",
    "print(\"Hello world!\")\n",
    "print(\"Hello world!\")\n",
    "```\n",
    "\n",
    "\n",
    "```c\n",
    "int a = 12;\n",
    "```\n",
    "\n",
    "\n",
    "[This is a link][1]\n",
    "\n",
    "[this is another link][1]\n",
    "\n",
    "[this is another link][2]\n",
    "\n",
    "\n",
    "\n",
    "\n",
    "[1]: https://soft98.ir/software/programming/1652-%D8%AF%D8%A7%D9%86%D9%84%D9%80%D9%88%D8%AF-%D9%86%D9%80%D9%80%D8%B1%D9%85-%D8%A7%D9%81%D8%B2%D8%A7%D8%B1-%D9%BE%D9%80%D8%A7%DB%8C-%DA%86%D8%A7%D8%B1%D9%85.html\n",
    "[2]: https://soft98.ir/software/programming/1652-%D8%AF%D8%A7%D9%86%D9%84%D9%80%D9%88%D8%AF-%D9%86%D9%80%D9%80%D8%B1%D9%85-%D8%A7%D9%81%D8%B2%D8%A7%D8%B1-%D9%BE%D9%80%D8%A7%DB%8C-%DA%86%D8%A7%D8%B1%D9%85.html"
   ]
  }
 ],
 "metadata": {
  "interpreter": {
   "hash": "2593801d6c2ac9455c8c570e302357cfed0591358dfabfd82bdc4e8e4faea34a"
  },
  "kernelspec": {
   "display_name": "Python 3.8.8 64-bit ('venv': venv)",
   "language": "python",
   "name": "python3"
  },
  "language_info": {
   "codemirror_mode": {
    "name": "ipython",
    "version": 3
   },
   "file_extension": ".py",
   "mimetype": "text/x-python",
   "name": "python",
   "nbconvert_exporter": "python",
   "pygments_lexer": "ipython3",
   "version": "3.8.8"
  },
  "orig_nbformat": 4
 },
 "nbformat": 4,
 "nbformat_minor": 2
}
