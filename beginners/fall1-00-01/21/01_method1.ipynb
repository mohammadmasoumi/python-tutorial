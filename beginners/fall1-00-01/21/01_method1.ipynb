{
 "cells": [
  {
   "cell_type": "markdown",
   "metadata": {},
   "source": [
    "# Method\n",
    "\n",
    "\n",
    "\n",
    "### funcionality?\n",
    "\n",
    " - resuable\n",
    " - break down code into the logical block\n",
    "\n",
    "\n",
    "(x, y ,z) --> f --> (a, b)\n",
    "\n",
    "\n",
    "function_name -> python variable naming\n",
    "\n",
    "\n",
    "def function_name(inputs):\n",
    "    # code block\n",
    "    \n",
    "    return outpus"
   ]
  },
  {
   "cell_type": "code",
   "execution_count": null,
   "metadata": {},
   "outputs": [],
   "source": [
    "\n",
    "# method 1\n",
    "# function with inputs and outputs\n",
    "\n",
    "def function_name(f_name, last_name):\n",
    "    return f_name + \"-\" + last_name\n",
    "\n",
    "# call, invoke\n",
    "#  فراخوانی\n",
    "\n",
    "#full_name = \"ali-alavi\"\n",
    "full_name = function_name(\"ali\", \"alavi\")\n",
    "print(full_name)\n"
   ]
  },
  {
   "cell_type": "code",
   "execution_count": null,
   "metadata": {},
   "outputs": [],
   "source": [
    "# method 2\n",
    "\n",
    "# no inputs and just puts\n",
    "\n",
    "def give_a_number():\n",
    "    return 3\n",
    "\n",
    "\n",
    "# invoke\n",
    "print(give_a_number())\n",
    "print(give_a_number())\n",
    "print(give_a_number())"
   ]
  },
  {
   "cell_type": "code",
   "execution_count": null,
   "metadata": {},
   "outputs": [],
   "source": [
    "# method 3\n",
    "\n",
    "# no inputs and just puts\n",
    "def return_none1():\n",
    "    pass\n",
    "\n",
    "def return_none2():\n",
    "    return\n",
    "\n",
    "def return_none3():\n",
    "    return None\n",
    "\n",
    "\n",
    "def pretty_print(text):\n",
    "\n",
    "    # hello ?\n",
    "    print(f\"hello: {text}\") # {variable} curly braces\n",
    "\n",
    "    # همه این ها برابر  => return None\n",
    "    # \n",
    "    # return \n",
    "    # return None\n",
    "\n",
    "# invoke\n",
    "\n",
    "# pretty_print(\"Hello\") => None\n",
    "# print(None)\n",
    "print(pretty_print(\"Hello\"))\n",
    "print(pretty_print(\"Bye\"))\n",
    "print(pretty_print(\"How are you?\"))\n"
   ]
  },
  {
   "cell_type": "code",
   "execution_count": null,
   "metadata": {},
   "outputs": [],
   "source": [
    "# functions are variables\n",
    "\n",
    "\n",
    "def multiplier(a, b):\n",
    "    return a * b\n",
    "\n",
    "\n",
    "print(multiplier)\n",
    "print(id(multiplier)) # no invokation\n",
    "print(multiplier(2, 3))\n"
   ]
  },
  {
   "cell_type": "code",
   "execution_count": null,
   "metadata": {},
   "outputs": [],
   "source": [
    "def shout():\n",
    "    print(\"Shouuuuuuuuuuuuuut\")\n",
    "\n",
    "    # return None\n",
    "\n",
    "# shout is a variable\n",
    "# a = 12\n",
    "# a = 12\n",
    "# b = a\n",
    "yell = shout\n",
    "\n",
    "# print(id(yell))\n",
    "# print(id(shout))\n",
    "\n",
    "yell()\n",
    "\n",
    "# خروجی این تابع را برای من پرینت کن\n",
    "print(yell()) # "
   ]
  },
  {
   "cell_type": "code",
   "execution_count": null,
   "metadata": {},
   "outputs": [],
   "source": [
    "def multiply_by_2(a):\n",
    "    return a * 2000\n",
    "\n",
    "a = multiply_by_2(2)\n",
    "\n",
    "# -5 to 255 cache\n",
    "print(a)\n",
    "print(multiply_by_2(2))\n",
    "\n",
    "print(id(multiply_by_2(2)))\n",
    "print(id(a))\n"
   ]
  }
 ],
 "metadata": {
  "interpreter": {
   "hash": "5a880ef361d6e9478119933b4bf4ab122d795077cfcec491d1b396d17d82fee9"
  },
  "kernelspec": {
   "display_name": "Python 3.8.8 64-bit",
   "language": "python",
   "name": "python3"
  },
  "language_info": {
   "codemirror_mode": {
    "name": "ipython",
    "version": 3
   },
   "file_extension": ".py",
   "mimetype": "text/x-python",
   "name": "python",
   "nbconvert_exporter": "python",
   "pygments_lexer": "ipython3",
   "version": "3.8.8"
  },
  "orig_nbformat": 4
 },
 "nbformat": 4,
 "nbformat_minor": 2
}
