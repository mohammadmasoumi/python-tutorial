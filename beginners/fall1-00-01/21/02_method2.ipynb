{
 "cells": [
  {
   "cell_type": "code",
   "execution_count": 1,
   "metadata": {},
   "outputs": [
    {
     "name": "stdout",
     "output_type": "stream",
     "text": [
      "Called!\n"
     ]
    }
   ],
   "source": [
    "def caller(function):\n",
    "    function()\n",
    "\n",
    "def call_me():\n",
    "    print(\"Called!\")\n",
    "\n",
    "\n",
    "# function -> variable\n",
    "# pass variable\n",
    "caller( call_me ) \n"
   ]
  },
  {
   "cell_type": "code",
   "execution_count": null,
   "metadata": {},
   "outputs": [],
   "source": [
    "def caller(function):\n",
    "    # TypeError: 'NoneType' object is not callable\n",
    "    # function = None\n",
    "    # None()\n",
    "    function()\n",
    "\n",
    "def call_me():\n",
    "    print(\"Called!\")\n",
    "\n",
    "    # return None\n",
    "\n",
    "# function -> variable\n",
    "# pass variable\n",
    "# caller( None ) \n",
    "caller( call_me() ) \n"
   ]
  },
  {
   "cell_type": "code",
   "execution_count": null,
   "metadata": {},
   "outputs": [],
   "source": [
    "def caller(function):\n",
    "    # 1\n",
    "    print(\"hello\")\n",
    "    \n",
    "    # 2\n",
    "    function()\n",
    "    \n",
    "    # 4\n",
    "    print(\"bye\")\n",
    "\n",
    "def call_me():\n",
    "    # 3\n",
    "    print(\"Called!\")\n",
    "\n",
    "\n",
    "# function -> variable\n",
    "# pass variable\n",
    "caller( call_me ) \n"
   ]
  },
  {
   "cell_type": "code",
   "execution_count": null,
   "metadata": {},
   "outputs": [],
   "source": [
    "def caller(function):\n",
    "    print(\"hello\")\n",
    "    \n",
    "    return function()\n",
    "    \n",
    "    # بعد از return کدی جرا نمیشود.\n",
    "    # do not execute this lines\n",
    "    print(\"bye\")\n",
    "\n",
    "def call_me():\n",
    "    print(\"Called!\")\n",
    "\n",
    "\n",
    "# function -> variable\n",
    "# pass variable\n",
    "caller( call_me ) \n"
   ]
  },
  {
   "cell_type": "code",
   "execution_count": null,
   "metadata": {},
   "outputs": [],
   "source": [
    "def caller(function):\n",
    "    print(\"hello\")\n",
    "    print(\"bye\")\n",
    "\n",
    "    function()\n",
    "    \n",
    "\n",
    "def call_me():\n",
    "    print(\"Called!\")\n",
    "\n",
    "\n",
    "# function -> variable\n",
    "# pass variable\n",
    "caller( call_me ) \n"
   ]
  },
  {
   "cell_type": "code",
   "execution_count": null,
   "metadata": {},
   "outputs": [],
   "source": [
    "def pprint(text):\n",
    "    # text: 'a'\n",
    "    print(text)\n",
    "\n",
    "    return None\n",
    "\n",
    "a = pprint('a')\n",
    "# a = None\n",
    "print(a)\n"
   ]
  },
  {
   "cell_type": "code",
   "execution_count": null,
   "metadata": {},
   "outputs": [],
   "source": [
    "def add(a, b):\n",
    "    return a + b\n",
    "\n",
    "# print(               25          ) \n",
    "print(           add(12, 13)       )\n",
    "print(           \"alireza\"         )\n",
    "print(          add(\"ali\", \"reza\")  )"
   ]
  },
  {
   "cell_type": "code",
   "execution_count": null,
   "metadata": {},
   "outputs": [],
   "source": [
    "def add(a, b):\n",
    "    c = a + b\n",
    "    print(c)\n",
    "    # return None\n",
    "\n",
    "\n",
    "# print(               25          ) \n",
    "print(           add(12, 13)       )\n",
    "# print(           None       )"
   ]
  },
  {
   "cell_type": "code",
   "execution_count": null,
   "metadata": {},
   "outputs": [],
   "source": [
    "a = print('a')\n",
    "print(a)\n",
    "\n",
    "# print(      print('a')         )\n",
    "# print(      None         )"
   ]
  },
  {
   "cell_type": "code",
   "execution_count": null,
   "metadata": {},
   "outputs": [],
   "source": [
    "def caller(function):\n",
    "    print(\"hello\")\n",
    "    function()\n",
    "    print(\"bye\")\n",
    "    \n",
    "\n",
    "def call_me():\n",
    "    return print(\"Called!\")\n",
    "\n",
    "# function -> variable\n",
    "# pass variable\n",
    "caller( call_me ) \n"
   ]
  },
  {
   "cell_type": "code",
   "execution_count": null,
   "metadata": {},
   "outputs": [],
   "source": [
    "def add(*, a, b): # force call with key and value\n",
    "    return a + b\n",
    "\n",
    "print(add(2, 3)) # raise exception\n",
    "print(add(a=2, b=3))\n",
    "print(add(b=2, a=3))"
   ]
  },
  {
   "cell_type": "code",
   "execution_count": null,
   "metadata": {},
   "outputs": [],
   "source": [
    "def caller(function):\n",
    "    print(\"hello\")\n",
    "    print(function())\n",
    "    # print(print(\"Called!\"))\n",
    "    print(\"bye\")\n",
    "\n",
    "def call_me():\n",
    "    return print(\"Called!\")\n",
    "\n",
    "# function -> variable\n",
    "# pass variable\n",
    "caller( call_me ) \n"
   ]
  }
 ],
 "metadata": {
  "interpreter": {
   "hash": "5a880ef361d6e9478119933b4bf4ab122d795077cfcec491d1b396d17d82fee9"
  },
  "kernelspec": {
   "display_name": "Python 3.8.8 64-bit",
   "language": "python",
   "name": "python3"
  },
  "language_info": {
   "codemirror_mode": {
    "name": "ipython",
    "version": 3
   },
   "file_extension": ".py",
   "mimetype": "text/x-python",
   "name": "python",
   "nbconvert_exporter": "python",
   "pygments_lexer": "ipython3",
   "version": "3.8.8"
  },
  "orig_nbformat": 4
 },
 "nbformat": 4,
 "nbformat_minor": 2
}
