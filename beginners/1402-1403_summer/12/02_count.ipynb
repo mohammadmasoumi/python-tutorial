{
 "cells": [
  {
   "cell_type": "markdown",
   "metadata": {},
   "source": [
    "# Count\n",
    "\n",
    "```python\n",
    "my_list = [\"hello\", \"bye\", \"bye\", 1, 2, \"12\", 12.2, \"12\", 2]\n",
    "```\n",
    "\n",
    "\n",
    "key -> value (pair)\n",
    "\n",
    "item -> count\n",
    "\n",
    "```python\n",
    "result = []\n",
    "```\n",
    "\n",
    "1. \"hello\"\n",
    " - search item in result\n",
    "    - exist -> ++count\n",
    "    - not exist -> append \n",
    "2. \"bye\"\n",
    " - search item in result\n",
    "    - exist -> ++count\n",
    "    - not exist -> append \n",
    "```"
   ]
  },
  {
   "cell_type": "markdown",
   "metadata": {},
   "source": [
    "## Search item in result\n",
    "```python\n",
    "# result: [\n",
    "#      0     1\n",
    "#   [item, count], 0  \n",
    "#   [item, count], 1\n",
    "#   [item, count], 2\n",
    "#   [item, count]  3\n",
    "# ]\n",
    "result = []\n",
    "item: \"hello\"\n",
    "\n",
    "# result = [\n",
    "#   [\"bye\", 1], \n",
    "#   [\"hello\", 2], \n",
    "#   [2, 2]\n",
    "# ]\n",
    "# search item in result\n",
    "for elem in result:\n",
    "    #          0     1\n",
    "    # elem: [item, count]\n",
    "    # elem: [\"bye\", 1], item: \"hello\"\n",
    "    if item == elem[0]:\n",
    "        # exist -> ++count\n",
    "        elem[1] += 1 \n",
    "        break\n",
    "else:\n",
    "    result.append([item, 1])\n",
    "    # result = [[\"bye\", 1], [\"hello\", 2], [2, 2], [\"hello\", 1]]\n",
    "```"
   ]
  }
 ],
 "metadata": {
  "language_info": {
   "name": "python"
  },
  "orig_nbformat": 4
 },
 "nbformat": 4,
 "nbformat_minor": 2
}
