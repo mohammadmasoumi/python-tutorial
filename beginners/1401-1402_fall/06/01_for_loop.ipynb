{
 "cells": [
  {
   "cell_type": "code",
   "execution_count": null,
   "metadata": {},
   "outputs": [],
   "source": [
    "my_list = [1, 2, 3, 4]\n",
    "\n",
    "\"\"\"\n",
    "C, java\n",
    "\n",
    "for (int i=0; i< len(); i++) {\n",
    "    # for loop body\n",
    "    print(\"Hello\")\n",
    "}\n",
    "\n",
    "\n",
    "for each\n",
    "\n",
    "for VARIABLE in MY_LIST:\n",
    "    # for body\n",
    "\"\"\"\n",
    "\n",
    "for item in my_list:\n",
    "    print(item)\n",
    "\n",
    "print(\"---------------\")\n",
    "for a in my_list:\n",
    "    print(a)\n",
    "\n",
    "\n",
    "print(\"---------------\")\n",
    "for elem in my_list:\n",
    "    print(elem)\n",
    "\n",
    "# SyntaxError: invalid syntax\n",
    "# for elem not in my_list:\n",
    "#     print(elem)"
   ]
  },
  {
   "cell_type": "code",
   "execution_count": null,
   "metadata": {},
   "outputs": [],
   "source": [
    "my_list = [1, 2, 3, 4]\n",
    "\n",
    "s = 0\n",
    "for item in my_list:\n",
    "    s += item\n",
    "\n",
    "print(s)\n",
    "\n",
    "# built-in function\n",
    "print(sum(my_list))"
   ]
  },
  {
   "cell_type": "code",
   "execution_count": null,
   "metadata": {},
   "outputs": [],
   "source": [
    "# AVG\n",
    "my_list = [1, 2, 3, 4]\n",
    "\n",
    "s = 0\n",
    "for item in my_list:\n",
    "    s += item\n",
    "\n",
    "print(s / len(my_list))\n",
    "\n",
    "# \n",
    "print(sum(my_list)/ len(my_list))"
   ]
  },
  {
   "cell_type": "code",
   "execution_count": null,
   "metadata": {},
   "outputs": [],
   "source": [
    "# Remove\n",
    "my_list = [1, 2, 3, 4]\n",
    "\n",
    "# index: 0\n",
    "for item in my_list:\n",
    "    # index: 0 | item: 1 | my_list: [1, 2, 3, 4]\n",
    "    # index: 1 | item: 3 | my_list: [2, 3, 4]\n",
    "    # index: 2 | item: ? | my_list: [2, 4] STOP ITERATION\n",
    "    my_list.remove(item)\n",
    "    # item: 1 | my_list: [2, 3, 4]\n",
    "    # item: 3 | my_list: [2, 4]\n",
    "\n",
    "print(my_list)"
   ]
  },
  {
   "cell_type": "code",
   "execution_count": null,
   "metadata": {},
   "outputs": [],
   "source": [
    "# Remove\n",
    "my_list = [1, 2, 3, 4]\n",
    "\n",
    "for item in my_list:\n",
    "    my_list.remove(item)\n",
    "    item -= 1\n",
    "\n",
    "print(my_list)"
   ]
  },
  {
   "cell_type": "code",
   "execution_count": null,
   "metadata": {},
   "outputs": [],
   "source": [
    "# Remove\n",
    "my_list = [1, 2, 3, 4]\n",
    "\n",
    "index = 0\n",
    "# item = my_list[index]\n",
    "for item in my_list:\n",
    "    # index: 0 | item: 1 | my_list: [1, 2, 3, 4]\n",
    "    # index: 1 | item: 2 | my_list: [0, 2, 3, 4]\n",
    "    # index: 2 | item: 3 | my_list: [0, 1, 3, 4]\n",
    "    # index: 3 | item: 4 | my_list: [0, 1, 2, 4]\n",
    "    # index: 4 | item: ? | my_list: [0, 1, 2, 3] STOP ITERATION\n",
    "    item -= 1\n",
    "    # index: 0 | item: 0 | my_list: [1, 2, 3, 4]\n",
    "    # index: 1 | item: 1 | my_list: [0, 2, 3, 4]\n",
    "    # index: 2 | item: 2 | my_list: [0, 1, 3, 4]\n",
    "    # index: 3 | item: 3 | my_list: [0, 1, 2, 4]\n",
    "    my_list[index] = item\n",
    "    # my_list[0] = 0\n",
    "    # my_list[1] = 1\n",
    "    # my_list[2] = 2\n",
    "    # my_list[3] = 3\n",
    "    \n",
    "    # index: 0 | item: 0 | my_list: [0, 2, 3, 4]\n",
    "    # index: 1 | item: 1 | my_list: [0, 1, 3, 4]\n",
    "    # index: 2 | item: 2 | my_list: [0, 1, 2, 4]\n",
    "    # index: 3 | item: 3 | my_list: [0, 1, 2, 3]\n",
    "\n",
    "    index += 1\n",
    "    # index: 1 | item: 0 | my_list: [0, 2, 3, 4]\n",
    "    # index: 2 | item: 1 | my_list: [0, 1, 3, 4]\n",
    "    # index: 3 | item: 2 | my_list: [0, 1, 2, 4]\n",
    "    # index: 4 | item: 3 | my_list: [0, 1, 2, 3]\n",
    "\n",
    "print(my_list)"
   ]
  },
  {
   "cell_type": "code",
   "execution_count": null,
   "metadata": {},
   "outputs": [],
   "source": [
    "# Remove\n",
    "my_list = [10, 20, 30, 40]\n",
    "\n",
    "index = 0\n",
    "# item = my_list[index]\n",
    "for item in my_list:\n",
    "    item -= 1\n",
    "    print(f\"my_list: {my_list} | item: {item} | index: {index}\")\n",
    "    my_list[index] = item\n",
    "    index += 1\n",
    "\n",
    "print(my_list)"
   ]
  },
  {
   "cell_type": "code",
   "execution_count": null,
   "metadata": {},
   "outputs": [],
   "source": [
    "# Remove\n",
    "my_list = [15, 7, 2, 100]\n",
    "\n",
    "index = 0\n",
    "# item = my_list[index]\n",
    "for item in my_list:\n",
    "    item -= 1\n",
    "    print(f\"my_list: {my_list} | item: {item} | index: {index}\")\n",
    "    # my_list[index] = item\n",
    "    index += 1\n",
    "\n",
    "print(my_list)"
   ]
  },
  {
   "cell_type": "code",
   "execution_count": null,
   "metadata": {},
   "outputs": [],
   "source": [
    "my_list = [15, 7, 2, 100]\n",
    "\n",
    "index = 0\n",
    "for item in my_list:\n",
    "    print(f\"item: {item} | id(item): {id(item)} | my_list[index]: {id(my_list[index])}\")\n",
    "    item -= 1\n",
    "    my_list[index] = item\n",
    "    print(f\"item: {item} | id(item): {id(item)} | my_list[index]: {id(my_list[index])}\")\n",
    "    print(\"--------------------------------------------------\")\n",
    "    index += 1\n",
    "\n",
    "print(my_list)"
   ]
  },
  {
   "cell_type": "code",
   "execution_count": null,
   "metadata": {},
   "outputs": [],
   "source": [
    "# Append\n",
    "\n",
    "# DO NOT TRY AT HOME\n",
    "my_list = [1, 2, 3, 4]\n",
    "\n",
    "for item in my_list:\n",
    "    # item: 1 | my_list: [1, 2, 3, 4]\n",
    "    # item: 2 | my_list: [1, 2, 3, 4, 1]\n",
    "    my_list.append(item)\n",
    "    # item: 1 | my_list: [1, 2, 3, 4, 1]\n",
    "    # item: 2 | my_list: [1, 2, 3, 4, 1, 2]"
   ]
  },
  {
   "cell_type": "code",
   "execution_count": null,
   "metadata": {},
   "outputs": [],
   "source": [
    "# update\n",
    "my_list = [[15], [7], [2], [100]]\n",
    "\n",
    "for item in my_list:\n",
    "    item.append(2)\n",
    "\n",
    "print(my_list)"
   ]
  },
  {
   "cell_type": "code",
   "execution_count": null,
   "metadata": {},
   "outputs": [],
   "source": [
    "# update\n",
    "my_list = [1, 2, 3, 4]\n",
    "\n",
    "print(f\"0: {id(my_list[0])}, 1: {id(my_list[1])}, diff: {id(my_list[1]) - id(my_list[0])}\")\n",
    "print(f\"1: {id(my_list[1])}, 2: {id(my_list[2])}, diff: {id(my_list[2]) - id(my_list[1])}\")\n",
    "print(f\"2: {id(my_list[2])}, 3: {id(my_list[3])}, diff: {id(my_list[3]) - id(my_list[2])}\")\n",
    "\"\"\"\n",
    "0 ----> [1] 0 \n",
    "1 ----> [2] 32\n",
    "2 ----> [3] 64\n",
    "3 ----> [4] 96\n",
    "\"\"\"\n",
    "my_list.insert(1, 5)\n",
    "\n",
    "print(\"----------------------------\")\n",
    "print(f\"0: {id(my_list[0])}, 1: {id(my_list[1])}, diff: {id(my_list[1]) - id(my_list[0])}\")\n",
    "print(f\"1: {id(my_list[1])}, 2: {id(my_list[2])}, diff: {id(my_list[2]) - id(my_list[1])}\")\n",
    "print(f\"2: {id(my_list[2])}, 3: {id(my_list[3])}, diff: {id(my_list[3]) - id(my_list[2])}\")\n",
    "print(f\"3: {id(my_list[3])}, 4: {id(my_list[4])}, diff: {id(my_list[4]) - id(my_list[3])}\")\n",
    "\n",
    "\"\"\"\n",
    "0 ----> [1] 0 \n",
    "1 ---->  \n",
    "2 ----> [2] 32\n",
    "3 ----> [3] 64\n",
    "4 ----> [4] 96\n",
    "        [5] 128\n",
    "\"\"\"\n"
   ]
  }
 ],
 "metadata": {
  "kernelspec": {
   "display_name": "Python 3.10.4 64-bit",
   "language": "python",
   "name": "python3"
  },
  "language_info": {
   "codemirror_mode": {
    "name": "ipython",
    "version": 3
   },
   "file_extension": ".py",
   "mimetype": "text/x-python",
   "name": "python",
   "nbconvert_exporter": "python",
   "pygments_lexer": "ipython3",
   "version": "3.10.4"
  },
  "orig_nbformat": 4,
  "vscode": {
   "interpreter": {
    "hash": "916dbcbb3f70747c44a77c7bcd40155683ae19c65e1c03b4aa3499c5328201f1"
   }
  }
 },
 "nbformat": 4,
 "nbformat_minor": 2
}
