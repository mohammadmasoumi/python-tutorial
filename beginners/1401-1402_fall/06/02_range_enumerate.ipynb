{
 "cells": [
  {
   "cell_type": "code",
   "execution_count": null,
   "metadata": {},
   "outputs": [],
   "source": [
    "# for each\n",
    "\n",
    "my_list = [1, 2, 3, 4]\n",
    "\n",
    "for item in my_list:\n",
    "    print(item)\n",
    "\n",
    "# for item in enumerate(my_list):\n",
    "#     print(item)"
   ]
  },
  {
   "cell_type": "code",
   "execution_count": null,
   "metadata": {},
   "outputs": [],
   "source": [
    "# unpacking\n",
    "\n",
    "# 1\n",
    "a, b = 12, 13\n",
    "print(a, b)\n",
    "\n",
    "# 2\n",
    "# ValueError: not enough values to unpack (expected 3, got 2)\n",
    "# a, b, c = 12, 13\n",
    "# print(a, b, c)\n",
    "\n",
    "# 3\n",
    "# ValueError: too many values to unpack (expected 2)\n",
    "# a, b = 12, 13, 14\n",
    "# print(a, b)\n",
    "\n",
    "# 4\n",
    "a, b = [12, 13]\n",
    "print(a, b)\n",
    "\n",
    "# \n",
    "a, b = [12, 13], [14, 15]\n",
    "print(a, b)\n",
    "\n",
    "# \n",
    "a, b = [[12, 13], [14, 15]]\n",
    "print(a, b)\n",
    "\n",
    "# 6\n",
    "# ValueError: too many values to unpack (expected 2)\n",
    "# a, b = [12, 13, 14]\n",
    "# print(a, b)\n",
    "\n",
    "my_list = [12, [13, 14]] \n",
    "a, b = my_list\n",
    "print(a, b)\n",
    "a += 1\n",
    "print(a, b, my_list)\n",
    "b.append(15)\n",
    "print(a, b, my_list)\n",
    "my_list[1].append(17)\n",
    "print(a, b, my_list)\n",
    "my_list.append(18)\n",
    "print(a, b, my_list)\n"
   ]
  },
  {
   "cell_type": "code",
   "execution_count": null,
   "metadata": {},
   "outputs": [],
   "source": [
    "# Packing\n",
    "\n",
    "# a, b, c = 12, 13, 14, 15\n",
    "\n",
    "*a, b, c = 12, 13, 14, 15, 16\n",
    "print(a, b, c)\n",
    "\n",
    "a, *b, c = 12, 13, 14, 15, 16\n",
    "print(a, b, c)\n",
    "\n",
    "a, b, *c = 12, 13, 14, 15, 16\n",
    "print(a, b, c)\n",
    "\n",
    "a, b, *c = 12, 13, 14\n",
    "print(a, b, c)\n",
    "\n",
    "a, *b, c, d = 12, 13, 14, 15, 16\n",
    "print(a, b, c, d)\n",
    "\n",
    "a, b, *c = 12, 13\n",
    "print(a, b, c)\n",
    "\n",
    "# SyntaxError: multiple starred expressions in assignment\n",
    "# a, *b, *c = 12, 13, 14, 15, 16, 17\n",
    "# print(a, b, c)\n"
   ]
  }
 ],
 "metadata": {
  "kernelspec": {
   "display_name": "Python 3.10.4 64-bit",
   "language": "python",
   "name": "python3"
  },
  "language_info": {
   "codemirror_mode": {
    "name": "ipython",
    "version": 3
   },
   "file_extension": ".py",
   "mimetype": "text/x-python",
   "name": "python",
   "nbconvert_exporter": "python",
   "pygments_lexer": "ipython3",
   "version": "3.10.4"
  },
  "orig_nbformat": 4,
  "vscode": {
   "interpreter": {
    "hash": "916dbcbb3f70747c44a77c7bcd40155683ae19c65e1c03b4aa3499c5328201f1"
   }
  }
 },
 "nbformat": 4,
 "nbformat_minor": 2
}
