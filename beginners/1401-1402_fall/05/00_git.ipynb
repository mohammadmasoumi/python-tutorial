{
 "cells": [
  {
   "cell_type": "markdown",
   "metadata": {},
   "source": [
    "# Python Jupyter Installation\n",
    "\n",
    "\n",
    "- extension: search for jupyter\n",
    "- terminal: pip install ipykernel"
   ]
  },
  {
   "cell_type": "markdown",
   "metadata": {},
   "source": [
    "# Git\n",
    "\n",
    "\n",
    "- initialize (create .git)\n",
    "- git remote add origin URL\n",
    "- change\n",
    "- add \n",
    "    - git add 03/01-FILE_NAME.py\n",
    "    - git add 03/\n",
    "    - git add .\n",
    "- commmit (message)\n",
    "    - add new feature: financial mode\n",
    "    - update User model\n",
    "    - bugfix: \n",
    "- pull\n",
    "- push\n",
    "\n",
    "\n",
    "## Track\n",
    "\n",
    "\n",
    "[YOU]\n",
    "```\n",
    "a.py local changes\n",
    "\n",
    "<!-- print(\"Hello\") -->\n",
    "print(\"Bye\")\n",
    "```\n",
    "\n",
    "[YOUR_FRIEND]\n",
    "```\n",
    "a.py origin changes\n",
    "\n",
    "print(\"Bye\")\n",
    "```\n",
    "\n",
    "CONFLICT\n",
    "\n",
    "\n",
    "local changes\n",
    "origin changes\n",
    "\n",
    "\n",
    "git cycle\n",
    "[add -> commit -> push]\n",
    "\n",
    "- change -> push\n",
    "- pull -> change -> push\n",
    "\n",
    "\n"
   ]
  }
 ],
 "metadata": {
  "kernelspec": {
   "display_name": "Python 3.10.4 64-bit",
   "language": "python",
   "name": "python3"
  },
  "language_info": {
   "name": "python",
   "version": "3.10.4"
  },
  "orig_nbformat": 4,
  "vscode": {
   "interpreter": {
    "hash": "916dbcbb3f70747c44a77c7bcd40155683ae19c65e1c03b4aa3499c5328201f1"
   }
  }
 },
 "nbformat": 4,
 "nbformat_minor": 2
}
