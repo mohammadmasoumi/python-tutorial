{
 "cells": [
  {
   "cell_type": "markdown",
   "metadata": {},
   "source": [
    "# Sort\n",
    "\n",
    "\n",
    "```python\n",
    "#          49 1   1   51   51\n",
    "my_list = [1, 49, 51, -1, 101]\n",
    "\n",
    "# my_list = [49, 51, 1, -1, 101]\n",
    "\n",
    "```"
   ]
  },
  {
   "cell_type": "code",
   "execution_count": null,
   "metadata": {},
   "outputs": [],
   "source": [
    "#          49 1   1   51   51\n",
    "# my_list = [1, 49, 51, -1, 101]\n",
    "my_list = [1, 51, 49, -1, 101]\n",
    "\n",
    "\n",
    "# my_list = [49, 51, 1, -1, 101]\n",
    " \n",
    "# 1 -> 49\n",
    "# 49 -> 1\n",
    "\n",
    "def sort_fucntion(item):\n",
    "    return abs(50 - item)\n",
    "\n",
    "\n",
    "# 49 sort_fucntion(1)\n",
    "# 1 sort_fucntion(49)\n",
    "# 1 sort_fucntion(51)\n",
    "# 51 sort_fucntion(-1)\n",
    "# 51 sort_fucntion(101)\n",
    "\n",
    "print(my_list.sort(key=sort_fucntion))\n",
    "print(my_list)\n",
    "# print(list(reversed(my_list)))\n",
    "\n",
    "my_list.sort(key=sort_fucntion, reverse=True)\n",
    "print(my_list)\n",
    "\n"
   ]
  },
  {
   "cell_type": "code",
   "execution_count": null,
   "metadata": {},
   "outputs": [],
   "source": [
    "my_list = [\"mina\", \"baran\", \"Ali\", \"ali\"]\n",
    "\n",
    "\n",
    "def sort_fucntion(item):\n",
    "    return item\n",
    "\n",
    "# def sort(key, reverse, *):\n",
    "#     pass\n",
    "\n",
    "# sort(2, 13)\n",
    "# sort(key=2, reversed=13)\n",
    "\n",
    "my_list.sort(reverse=False, key=sort_fucntion)\n",
    "print(my_list)"
   ]
  },
  {
   "cell_type": "code",
   "execution_count": null,
   "metadata": {},
   "outputs": [],
   "source": [
    "my_list = [10, 2, 4, 1, 5]\n",
    "\n",
    "\n",
    "def sort_fucntion(elem):\n",
    "    return elem\n",
    "\n",
    "\n",
    "my_list.sort(reverse=True, key=sort_fucntion)\n",
    "print(my_list)\n",
    "\n",
    "my_list.sort(key=sort_fucntion)\n",
    "print(my_list)"
   ]
  },
  {
   "cell_type": "code",
   "execution_count": null,
   "metadata": {},
   "outputs": [],
   "source": [
    "my_list = [22, 12, 33, 35, 71]\n",
    "\n",
    "\n",
    "def sort_fucntion(elem):\n",
    "    return elem % 10\n",
    "\n",
    "my_list.sort(key=sort_fucntion)\n",
    "print(my_list)\n"
   ]
  }
 ],
 "metadata": {
  "kernelspec": {
   "display_name": "Python 3.10.4 64-bit",
   "language": "python",
   "name": "python3"
  },
  "language_info": {
   "codemirror_mode": {
    "name": "ipython",
    "version": 3
   },
   "file_extension": ".py",
   "mimetype": "text/x-python",
   "name": "python",
   "nbconvert_exporter": "python",
   "pygments_lexer": "ipython3",
   "version": "3.10.4"
  },
  "orig_nbformat": 4,
  "vscode": {
   "interpreter": {
    "hash": "916dbcbb3f70747c44a77c7bcd40155683ae19c65e1c03b4aa3499c5328201f1"
   }
  }
 },
 "nbformat": 4,
 "nbformat_minor": 2
}
