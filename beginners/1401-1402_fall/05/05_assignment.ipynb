{
 "cells": [
  {
   "cell_type": "code",
   "execution_count": null,
   "metadata": {},
   "outputs": [],
   "source": [
    "my_list = [\"orange\", \"apple\", \"banana\", \"cucumber\", \"watermelon\", \"lemon\"]\n",
    "\n",
    "\n",
    "# 1\n",
    "print(my_list[::2])\n",
    "\n",
    "# 2\n",
    "print(my_list[:2] + my_list[-2:])\n",
    "\n",
    "# 3\n",
    "print(my_list[::-2])\n",
    "\n",
    "# 4\n",
    "print(my_list[3::-2] + my_list[:-3:-1])"
   ]
  }
 ],
 "metadata": {
  "kernelspec": {
   "display_name": "Python 3.10.4 64-bit",
   "language": "python",
   "name": "python3"
  },
  "language_info": {
   "codemirror_mode": {
    "name": "ipython",
    "version": 3
   },
   "file_extension": ".py",
   "mimetype": "text/x-python",
   "name": "python",
   "nbconvert_exporter": "python",
   "pygments_lexer": "ipython3",
   "version": "3.10.4"
  },
  "orig_nbformat": 4,
  "vscode": {
   "interpreter": {
    "hash": "916dbcbb3f70747c44a77c7bcd40155683ae19c65e1c03b4aa3499c5328201f1"
   }
  }
 },
 "nbformat": 4,
 "nbformat_minor": 2
}
