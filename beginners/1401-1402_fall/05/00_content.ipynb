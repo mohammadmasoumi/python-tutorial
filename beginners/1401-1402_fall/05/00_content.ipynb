{
 "cells": [
  {
   "cell_type": "markdown",
   "metadata": {},
   "source": [
    "# Content\n",
    "\n",
    "\n",
    "- methods on list\n",
    "    - count(element)\n",
    "    - index(element, start, end)\n",
    "    - insert \n",
    "    - pop/remove\n",
    "    - append/extend\n",
    "    - sort(function, reverse)\n",
    "    - clear\n",
    "    - copy\n",
    "- advanced list\n",
    "- for loop\n",
    "    - for each\n",
    "    - sum of all elements\n",
    "    - multipy all elements\n",
    "    - avg of all elements\n",
    "    - sentinel variable\n",
    "    - index\n",
    "    - update element\n",
    "    - append element\n",
    "    - remove element\n",
    "- enumerate\n",
    "- range\n",
    "\n",
    "\n",
    "## Extensions\n",
    "\n",
    "- jupyter\n",
    "\n",
    "\n",
    "## Dependencies\n",
    "\n",
    "```bash\n",
    "pip install ipykernel\n",
    "```\n",
    "\n",
    "\n"
   ]
  }
 ],
 "metadata": {
  "kernelspec": {
   "display_name": "Python 3.10.4 64-bit",
   "language": "python",
   "name": "python3"
  },
  "language_info": {
   "codemirror_mode": {
    "name": "ipython",
    "version": 3
   },
   "file_extension": ".py",
   "mimetype": "text/x-python",
   "name": "python",
   "nbconvert_exporter": "python",
   "pygments_lexer": "ipython3",
   "version": "3.10.4"
  },
  "orig_nbformat": 4,
  "vscode": {
   "interpreter": {
    "hash": "916dbcbb3f70747c44a77c7bcd40155683ae19c65e1c03b4aa3499c5328201f1"
   }
  }
 },
 "nbformat": 4,
 "nbformat_minor": 2
}
