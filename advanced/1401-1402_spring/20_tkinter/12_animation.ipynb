{
 "cells": [
  {
   "cell_type": "code",
   "execution_count": 2,
   "metadata": {},
   "outputs": [],
   "source": [
    "import tkinter as tk\n",
    "import time\n",
    "\n",
    "class Alien(object):\n",
    "    def __init__(self, canvas, *args, **kwargs):\n",
    "        self.canvas = canvas\n",
    "        self.id = canvas.create_oval(*args, **kwargs)\n",
    "        self.vx = 5\n",
    "        self.vy = 0\n",
    "\n",
    "    def move(self):\n",
    "        x1, y1, x2, y2 = self.canvas.bbox(self.id)\n",
    "        if x2 > 400:\n",
    "            self.vx = -5\n",
    "        if x1 < 0:\n",
    "            self.vx = 5\n",
    "        self.canvas.move(self.id, self.vx, self.vy)\n",
    "\n",
    "class App(object):\n",
    "    def __init__(self, master, **kwargs):\n",
    "        self.master = master\n",
    "        self.canvas = tk.Canvas(self.master, width=400, height=400)\n",
    "        self.canvas.pack()\n",
    "        self.aliens = [\n",
    "            Alien(self.canvas, 20, 260, 120, 360,\n",
    "                  outline='white', fill='blue'),\n",
    "            Alien(self.canvas, 2, 2, 40, 40, outline='white', fill='red'),\n",
    "        ]\n",
    "        self.canvas.pack()\n",
    "        self.master.after(0, self.animation)\n",
    "\n",
    "    def animation(self):\n",
    "        for alien in self.aliens:\n",
    "            alien.move()\n",
    "        self.master.after(12, self.animation)\n",
    "\n",
    "root = tk.Tk()\n",
    "app = App(root)\n",
    "root.mainloop()"
   ]
  }
 ],
 "metadata": {
  "interpreter": {
   "hash": "904b9da47796e6b13648dcf2f1f302b9941b8da10864de913021d30fa1cd1c59"
  },
  "kernelspec": {
   "display_name": "Python 3.8.10 64-bit ('venv': venv)",
   "language": "python",
   "name": "python3"
  },
  "language_info": {
   "codemirror_mode": {
    "name": "ipython",
    "version": 3
   },
   "file_extension": ".py",
   "mimetype": "text/x-python",
   "name": "python",
   "nbconvert_exporter": "python",
   "pygments_lexer": "ipython3",
   "version": "3.8.10"
  },
  "orig_nbformat": 4
 },
 "nbformat": 4,
 "nbformat_minor": 2
}
