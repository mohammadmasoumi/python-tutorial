{
 "cells": [
  {
   "cell_type": "markdown",
   "metadata": {},
   "source": [
    "# Checkbox"
   ]
  },
  {
   "cell_type": "code",
   "execution_count": 3,
   "metadata": {},
   "outputs": [],
   "source": [
    "from tkinter import *\n",
    "\n",
    "\n",
    "# root\n",
    "root = Tk()\n",
    "root.geometry(\"100x100\")\n",
    "\n",
    "\n",
    "def change_label1():\n",
    "    global label1\n",
    "    global variable1\n",
    "\n",
    "    label1.configure(text=variable1.get())\n",
    "\n",
    "\n",
    "def change_label2():\n",
    "    global label2\n",
    "    global variable2\n",
    "\n",
    "    label2.configure(text=variable2.get())\n",
    "\n",
    "\n",
    "# variables\n",
    "variable1 = IntVar()\n",
    "variable2 = IntVar()\n",
    "\n",
    "\n",
    "# checkboxes\n",
    "checkbox1 = Checkbutton(root, text=\"male\", variable=variable1, command=change_label1)\n",
    "checkbox1.pack()\n",
    "\n",
    "checkbox2 = Checkbutton(root, text=\"female\", variable=variable2, command=change_label2)\n",
    "checkbox2.pack()\n",
    "\n",
    "# labels\n",
    "label1 = Label(root, text=variable1.get())\n",
    "label1.pack()\n",
    "\n",
    "label2 = Label(root, text=variable2.get())\n",
    "label2.pack()\n",
    "\n",
    "\n",
    "\n",
    "root.mainloop()"
   ]
  }
 ],
 "metadata": {
  "interpreter": {
   "hash": "904b9da47796e6b13648dcf2f1f302b9941b8da10864de913021d30fa1cd1c59"
  },
  "kernelspec": {
   "display_name": "Python 3.8.10 64-bit ('venv': venv)",
   "language": "python",
   "name": "python3"
  },
  "language_info": {
   "codemirror_mode": {
    "name": "ipython",
    "version": 3
   },
   "file_extension": ".py",
   "mimetype": "text/x-python",
   "name": "python",
   "nbconvert_exporter": "python",
   "pygments_lexer": "ipython3",
   "version": "3.8.10"
  },
  "orig_nbformat": 4
 },
 "nbformat": 4,
 "nbformat_minor": 2
}
