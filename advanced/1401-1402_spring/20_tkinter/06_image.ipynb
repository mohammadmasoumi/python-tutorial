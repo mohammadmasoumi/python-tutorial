{
 "cells": [
  {
   "cell_type": "markdown",
   "metadata": {},
   "source": [
    "# Image\n",
    "\n",
    "\n",
    "```bash\n",
    "pip install pillow\n",
    "```"
   ]
  },
  {
   "cell_type": "code",
   "execution_count": 2,
   "metadata": {},
   "outputs": [],
   "source": [
    "from tkinter import *\n",
    "from PIL import Image, ImageTk\n",
    "\n",
    "# root\n",
    "root = Tk()\n",
    "\n",
    "\n",
    "# image\n",
    "my_image = ImageTk.PhotoImage(Image.open(\"images/Po.jpeg\"))\n",
    "\n",
    "\n",
    "# label\n",
    "my_label = Label(root, image=my_image)\n",
    "my_label.pack()\n",
    "\n",
    "\n",
    "# button\n",
    "my_button = Button(root, text=\"Exit!\", command=root.destroy)\n",
    "my_button.pack()\n",
    "\n",
    "\n",
    "# main eventloop\n",
    "root.mainloop()\n",
    "\n"
   ]
  }
 ],
 "metadata": {
  "interpreter": {
   "hash": "74afa6d18a5a39b8ce421aa98b1f4815a7471d239139e74ddf28af6a52ab835f"
  },
  "kernelspec": {
   "display_name": "Python 3.8.10 64-bit ('base': conda)",
   "language": "python",
   "name": "python3"
  },
  "language_info": {
   "codemirror_mode": {
    "name": "ipython",
    "version": 3
   },
   "file_extension": ".py",
   "mimetype": "text/x-python",
   "name": "python",
   "nbconvert_exporter": "python",
   "pygments_lexer": "ipython3",
   "version": "3.8.10"
  },
  "orig_nbformat": 4
 },
 "nbformat": 4,
 "nbformat_minor": 2
}
