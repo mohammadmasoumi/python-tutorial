{
 "cells": [
  {
   "cell_type": "markdown",
   "metadata": {},
   "source": [
    "# Content\n",
    "\n",
    "- first class object \n",
    "- pass fuction as argument\n",
    "- partial function\n",
    "- function inside function\n",
    "- args, kwargs\n",
    "- forced keyword argument\n",
    "- closure\n"
   ]
  },
  {
   "cell_type": "markdown",
   "metadata": {},
   "source": [
    "https://www.programiz.com/python-programming\n",
    "\n",
    "https://www.geeksforgeeks.org/passing-function-as-an-argument-in-python/\n",
    "\n",
    "https://realpython.com/\n",
    "\n",
    "https://www.hackerrank.com/\n",
    "\n",
    "https://www.codewars.com/join "
   ]
  }
 ],
 "metadata": {
  "language_info": {
   "name": "python"
  },
  "orig_nbformat": 4
 },
 "nbformat": 4,
 "nbformat_minor": 2
}
