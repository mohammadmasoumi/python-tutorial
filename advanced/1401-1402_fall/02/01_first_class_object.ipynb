{
 "cells": [
  {
   "cell_type": "markdown",
   "metadata": {},
   "source": [
    "# First class Object\n",
    "\n",
    "In python everything is object!"
   ]
  },
  {
   "cell_type": "code",
   "execution_count": null,
   "metadata": {},
   "outputs": [],
   "source": [
    "def shout():\n",
    "    print(\"Hello\")\n",
    "\n",
    "a = 12\n",
    "\n",
    "print(shout)   # function shout at #AB12\n",
    "print(shout()) # Hello\n",
    "               # None"
   ]
  },
  {
   "cell_type": "code",
   "execution_count": null,
   "metadata": {},
   "outputs": [],
   "source": [
    "def shout():\n",
    "    print(\"Hello\")\n",
    "\n",
    "a = 12\n",
    "\n",
    "print(shout)   # function shout at #AB12\n",
    "print(shout()) # Hello\n",
    "               # None"
   ]
  }
 ],
 "metadata": {
  "language_info": {
   "name": "python"
  },
  "orig_nbformat": 4
 },
 "nbformat": 4,
 "nbformat_minor": 2
}
