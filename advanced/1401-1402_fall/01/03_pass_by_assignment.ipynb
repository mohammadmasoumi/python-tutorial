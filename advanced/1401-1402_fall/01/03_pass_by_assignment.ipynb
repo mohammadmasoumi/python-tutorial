{
 "cells": [
  {
   "cell_type": "code",
   "execution_count": null,
   "metadata": {},
   "outputs": [],
   "source": [
    "\n"
   ]
  },
  {
   "cell_type": "markdown",
   "metadata": {},
   "source": [
    "## pass values to function\n",
    "\n",
    "### pass by assignment\n",
    "\n",
    "### pass by value\n",
    "\n",
    "\n",
    "### pass by assignment"
   ]
  },
  {
   "cell_type": "code",
   "execution_count": null,
   "metadata": {},
   "outputs": [],
   "source": [
    "a = 12\n",
    "b = 13\n",
    "\n",
    "def add(a, b):\n",
    "    # assign args to params\n",
    "    # a = a\n",
    "    # b = b\n",
    "    a += 1\n",
    "    b += 1\n",
    "\n",
    "# \n",
    "add(a, b)\n",
    "\n",
    "print(a, b)\n",
    "# ------------------------\n",
    "c = [1, 2, 3]\n",
    "\n",
    "def my_append(c):\n",
    "    # c = c\n",
    "    c.append(4)\n",
    "\n",
    "my_append(c)\n",
    "print(c)"
   ]
  },
  {
   "cell_type": "code",
   "execution_count": null,
   "metadata": {},
   "outputs": [],
   "source": [
    "# pass by assignment\n",
    "a = [1, 2, 3]\n",
    "b = a\n",
    "\n",
    "b.append(4)\n",
    "\n",
    "print(a ,b)\n"
   ]
  },
  {
   "cell_type": "code",
   "execution_count": null,
   "metadata": {},
   "outputs": [],
   "source": [
    "# solution: shallow copy\n",
    "\n",
    "# pass by assignment\n",
    "a = [1, 2, 3]\n",
    "b = a.copy()\n",
    "\n",
    "b.append(4)\n",
    "\n",
    "print(a ,b)\n"
   ]
  },
  {
   "cell_type": "code",
   "execution_count": null,
   "metadata": {},
   "outputs": [],
   "source": [
    "# problem: shallow copy\n",
    "\n",
    "# pass by assignment\n",
    "a = [[1, 2, 3], 4]\n",
    "b = a.copy()\n",
    "\n",
    "b[0].append(5)\n",
    "\n",
    "print(a ,b)"
   ]
  },
  {
   "cell_type": "code",
   "execution_count": null,
   "metadata": {},
   "outputs": [],
   "source": [
    "# solution: deep copy\n",
    "\n",
    "from copy import deepcopy\n",
    "\n",
    "# pass by assignment\n",
    "a = [[1, 2, 3], 4]\n",
    "b = deepcopy(a)\n",
    "\n",
    "b[0].append(5)\n",
    "\n",
    "print(a ,b)"
   ]
  }
 ],
 "metadata": {
  "kernelspec": {
   "display_name": "Python 3.9.13 ('venv': venv)",
   "language": "python",
   "name": "python3"
  },
  "language_info": {
   "codemirror_mode": {
    "name": "ipython",
    "version": 3
   },
   "file_extension": ".py",
   "mimetype": "text/x-python",
   "name": "python",
   "nbconvert_exporter": "python",
   "pygments_lexer": "ipython3",
   "version": "3.9.13"
  },
  "orig_nbformat": 4,
  "vscode": {
   "interpreter": {
    "hash": "5902b28bba61a07aa20df43efbb907b3192c3daf948fca133c0a2693c6397c2d"
   }
  }
 },
 "nbformat": 4,
 "nbformat_minor": 2
}
