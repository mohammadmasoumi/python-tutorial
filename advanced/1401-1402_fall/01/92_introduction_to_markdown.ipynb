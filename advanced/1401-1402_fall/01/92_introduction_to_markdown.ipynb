{
 "cells": [
  {
   "cell_type": "markdown",
   "metadata": {},
   "source": [
    "# Markdown  \n",
    "\n",
    "## Tags\n",
    "\n",
    "# h1 (Header)\n",
    "## h2 \n",
    "### h3\n",
    "#### h4\n",
    "##### h5\n",
    "###### h6\n",
    "\n",
    "## Extension\n",
    "\n",
    "> file.md\n",
    "\n",
    "## Code\n",
    "\n",
    "back tick\n",
    "\n",
    "def function(a, b):\n",
    "    return a + b\n",
    "\n",
    "```python\n",
    "def function(a, b):\n",
    "    return a + b\n",
    "```\n",
    "\n",
    "```\n",
    "def function(a, b):\n",
    "    return a + b\n",
    "```\n",
    "\n",
    "```bash\n",
    "cd\n",
    "dir\n",
    "mkdir\n",
    "\n",
    "pip install pillow\n",
    "```\n",
    "\n",
    "## Enumerate\n",
    "\n",
    "1. first item\n",
    "2. second item\n",
    "    1. first of second item\n",
    "    2. second of second item\n",
    "3. third item\n",
    "\n",
    "\n",
    "## Bullet point\n",
    "\n",
    "- first\n",
    "- second\n",
    "    - first of second\n",
    "    - second of second\n",
    "- third\n",
    "\n",
    "\n",
    "## Bold/Italic\n",
    "\n",
    "\n",
    "Hello **Jim**.\n",
    "\n",
    "*How are you?*\n",
    "\n",
    "## link \n",
    "\n",
    "[This is a hypertext][first_link]\n",
    "\n",
    "[This is a hypertext][a]\n",
    "\n",
    "[Github](https://github.com/mohammadmasoumi/python-tutorial/tree/main/advanced)\n",
    "\n",
    "[Github][1]\n",
    "\n",
    "[Github][1]\n",
    "\n",
    "[Github][100]\n",
    "\n",
    "[first_link]: https://github.com/mohammadmasoumi/python-tutorial/tree/main/advanced \n",
    "[a]: https://github.com/mohammadmasoumi/python-tutorial/tree/main/advanced\n",
    "[1]: https://github.com/mohammadmasoumi/python-tutorial/tree/main/advanced\n",
    "[100]: https://github.com/mohammadmasoumi/python-tutorial/tree/main/advanced\n",
    "\n"
   ]
  },
  {
   "cell_type": "code",
   "execution_count": null,
   "metadata": {},
   "outputs": [],
   "source": [
    "print(\"Hello\")"
   ]
  },
  {
   "cell_type": "markdown",
   "metadata": {},
   "source": [
    "# How can install\n",
    "\n",
    "\n",
    "- intall `jupyter` extension\n",
    "\n",
    "- install ipykernel (install from suggestion)\n",
    "\n",
    "- pip install ipykernel\n",
    "\n",
    "- .ipynb"
   ]
  },
  {
   "cell_type": "markdown",
   "metadata": {},
   "source": [
    "# Theme\n",
    "\n",
    "- extension -> search Ayu\n",
    "\n",
    "- Ayu mirage\n"
   ]
  },
  {
   "cell_type": "code",
   "execution_count": null,
   "metadata": {},
   "outputs": [],
   "source": []
  },
  {
   "cell_type": "code",
   "execution_count": null,
   "metadata": {},
   "outputs": [],
   "source": []
  }
 ],
 "metadata": {
  "kernelspec": {
   "display_name": "Python 3.9.13 ('venv': venv)",
   "language": "python",
   "name": "python3"
  },
  "language_info": {
   "codemirror_mode": {
    "name": "ipython",
    "version": 3
   },
   "file_extension": ".py",
   "mimetype": "text/x-python",
   "name": "python",
   "nbconvert_exporter": "python",
   "pygments_lexer": "ipython3",
   "version": "3.9.13"
  },
  "orig_nbformat": 4,
  "vscode": {
   "interpreter": {
    "hash": "5902b28bba61a07aa20df43efbb907b3192c3daf948fca133c0a2693c6397c2d"
   }
  }
 },
 "nbformat": 4,
 "nbformat_minor": 2
}
