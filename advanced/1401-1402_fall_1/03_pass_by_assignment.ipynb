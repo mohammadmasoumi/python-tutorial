{
 "cells": [
  {
   "cell_type": "markdown",
   "metadata": {},
   "source": [
    "# Pass by assignment\n",
    "\n",
    "Whenever you call a function in python, you assign input arguments to functino parameters. \n",
    "\n",
    "It follows variable assignment rules in python. \n",
    "\n",
    "\n",
    "## Pass by reference\n",
    "\n",
    "```python\n",
    "def adder(my_list):\n",
    "    # params     args\n",
    "    # my_list = my_list\n",
    "    my_list.append(4)\n",
    "\n",
    "my_list = [1, 2, 3]\n",
    "adder(my_list)\n",
    "print(my_list) # ?\n",
    "```\n",
    "\n",
    "## Pass by value\n",
    "\n",
    "```python\n",
    "def adder(a, b):\n",
    "    # params  args\n",
    "    # a   =    a\n",
    "    # b   =    b \n",
    "    a += 1\n",
    "    b += 1\n",
    "    return a + b\n",
    "\n",
    "a = 10\n",
    "b = 12\n",
    "adder(a, b)\n",
    "print(a, b) # ?\n",
    "```"
   ]
  },
  {
   "cell_type": "code",
   "execution_count": null,
   "metadata": {},
   "outputs": [],
   "source": [
    "# Pass by reference\n",
    "\n",
    "def adder(my_list):\n",
    "    my_list.append(4)\n",
    "    \n",
    "my_list = [1, 2, 3]\n",
    "adder(my_list)\n",
    "print(my_list)"
   ]
  },
  {
   "cell_type": "code",
   "execution_count": null,
   "metadata": {},
   "outputs": [],
   "source": [
    "# Pass by value\n",
    "a = 12\n",
    "b = 13\n",
    "\n",
    "def add(a, b):\n",
    "    a += 1\n",
    "    b += 1\n",
    "    return a + b\n",
    "\n",
    "add(a, b)\n",
    "print(a, b)"
   ]
  },
  {
   "cell_type": "code",
   "execution_count": null,
   "metadata": {},
   "outputs": [],
   "source": [
    "# Immutable\n",
    "\n",
    "# int\n",
    "# float\n",
    "# str\n",
    "# bool\n",
    "# tuple\n",
    "\n",
    "a = 12\n",
    "b = a\n",
    "\n",
    "b += 1\n",
    "\n",
    "print(a , b) # ?"
   ]
  },
  {
   "cell_type": "code",
   "execution_count": null,
   "metadata": {},
   "outputs": [],
   "source": [
    "# Mutable\n",
    "\n",
    "# list\n",
    "# set\n",
    "# dict\n",
    "\n",
    "a = [1, 2, 3]\n",
    "b = a\n",
    "\n",
    "b.append(4)\n",
    "\n",
    "print(a, b) # problem ?"
   ]
  },
  {
   "cell_type": "code",
   "execution_count": null,
   "metadata": {},
   "outputs": [],
   "source": [
    "# Solution - Shallow copy\n",
    "\n",
    "a = [1, 2, 3]\n",
    "b = a.copy()\n",
    "\n",
    "b.append(4)\n",
    "\n",
    "print(a, b)"
   ]
  },
  {
   "cell_type": "code",
   "execution_count": null,
   "metadata": {},
   "outputs": [],
   "source": [
    "# Problem - Shallow copy\n",
    "\n",
    "a = [[1, 2, 3], 4]\n",
    "b = a.copy()\n",
    "\n",
    "b[0].append(4)\n",
    "\n",
    "print(a, b) # problem ?"
   ]
  },
  {
   "cell_type": "code",
   "execution_count": null,
   "metadata": {},
   "outputs": [],
   "source": [
    "# Solution - Deep copy\n",
    "\n",
    "from copy import deepcopy\n",
    "\n",
    "a = [[1, 2, 3], 4]\n",
    "b = deepcopy(a)\n",
    "\n",
    "b[0].append(4)\n",
    "\n",
    "print(a, b)"
   ]
  }
 ],
 "metadata": {
  "language_info": {
   "name": "python"
  },
  "orig_nbformat": 4
 },
 "nbformat": 4,
 "nbformat_minor": 2
}
