{
 "cells": [
  {
   "cell_type": "markdown",
   "metadata": {},
   "source": [
    "# Content\n",
    "\n",
    "- chain of call\n",
    "- first class object\n",
    "- pass fucntion as argument\n",
    "- args\n",
    "- kwargs\n",
    "- forced keyword args\n"
   ]
  }
 ],
 "metadata": {
  "language_info": {
   "name": "python"
  },
  "orig_nbformat": 4
 },
 "nbformat": 4,
 "nbformat_minor": 2
}
