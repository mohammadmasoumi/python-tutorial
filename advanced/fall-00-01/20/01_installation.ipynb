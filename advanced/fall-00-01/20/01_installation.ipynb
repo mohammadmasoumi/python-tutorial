{
 "cells": [
  {
   "cell_type": "markdown",
   "metadata": {},
   "source": [
    "# Jupyter\n",
    "\n",
    " - extension -> search `jupyter`\n",
    " - install jupyter extension\n",
    " - .ipynb -> interactive python notebook\n",
    " - install kernel\n",
    " "
   ]
  },
  {
   "cell_type": "code",
   "execution_count": null,
   "metadata": {},
   "outputs": [],
   "source": [
    "print(\"Hello\")"
   ]
  },
  {
   "cell_type": "markdown",
   "metadata": {},
   "source": [
    "# Header 1\n",
    "\n",
    "## Header 2\n",
    "\n",
    "### Header 3\n",
    "\n",
    "#### Header 4\n",
    "\n",
    "##### Header 5\n",
    "\n",
    "###### Header 6\n",
    "\n",
    "\n",
    "Options:\n",
    " - ### item 1\n",
    "    - option 1\n",
    "    - option 2\n",
    " - item 2\n",
    " - item 3\n",
    "\n",
    "**Bold**\n",
    "\n",
    "*Italic*\n",
    "\n",
    "\"'` (tilda)\n",
    "\n",
    "Python\n",
    "```python\n",
    "print(\"Hello\")\n",
    "```\n",
    "\n",
    "C++\n",
    "```cpp\n",
    "cout << \"Hello\"\n",
    "```\n",
    "\n",
    "C#\n",
    "```c#\n",
    "print(\"Hello\")\n",
    "```\n",
    "\n",
    "\n",
    "[link1](https://google.com)\n",
    "\n",
    "[link2][1]\n",
    "\n",
    "[link3][1]\n",
    "\n",
    "[link4][2]\n",
    "\n",
    "\n",
    "\n",
    "[1]: https://google.com\n",
    "[2]: https://google.com\n"
   ]
  },
  {
   "cell_type": "code",
   "execution_count": null,
   "metadata": {},
   "outputs": [],
   "source": [
    "print(\"Bye\")"
   ]
  }
 ],
 "metadata": {
  "interpreter": {
   "hash": "5a880ef361d6e9478119933b4bf4ab122d795077cfcec491d1b396d17d82fee9"
  },
  "kernelspec": {
   "display_name": "Python 3.8.8 64-bit",
   "language": "python",
   "name": "python3"
  },
  "language_info": {
   "codemirror_mode": {
    "name": "ipython",
    "version": 3
   },
   "file_extension": ".py",
   "mimetype": "text/x-python",
   "name": "python",
   "nbconvert_exporter": "python",
   "pygments_lexer": "ipython3",
   "version": "3.8.8"
  },
  "orig_nbformat": 4
 },
 "nbformat": 4,
 "nbformat_minor": 2
}
