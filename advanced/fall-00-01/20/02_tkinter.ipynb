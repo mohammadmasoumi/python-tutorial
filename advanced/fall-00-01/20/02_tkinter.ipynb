{
 "cells": [
  {
   "cell_type": "markdown",
   "metadata": {},
   "source": [
    "# Main frame\n"
   ]
  },
  {
   "cell_type": "code",
   "execution_count": 8,
   "metadata": {},
   "outputs": [],
   "source": [
    "# import all with *\n",
    "from tkinter import *\n",
    "\n",
    "# root\n",
    "root = Tk()\n",
    "root.title(\"Hello world!\")\n",
    "root.iconbitmap(\"icon.ico\")\n",
    "\n",
    "#             widthxheight\n",
    "root.geometry(\"1000x400\")\n",
    "\n",
    "# main eventloop\n",
    "root.mainloop()"
   ]
  }
 ],
 "metadata": {
  "interpreter": {
   "hash": "a4957006abed397787c0555f8d886fb920e98fe40e750dc3dac033141670716e"
  },
  "kernelspec": {
   "display_name": "Python 3.8.8 64-bit ('env': venv)",
   "language": "python",
   "name": "python3"
  },
  "language_info": {
   "codemirror_mode": {
    "name": "ipython",
    "version": 3
   },
   "file_extension": ".py",
   "mimetype": "text/x-python",
   "name": "python",
   "nbconvert_exporter": "python",
   "pygments_lexer": "ipython3",
   "version": "3.8.8"
  },
  "orig_nbformat": 4
 },
 "nbformat": 4,
 "nbformat_minor": 2
}
