{
 "cells": [
  {
   "cell_type": "code",
   "execution_count": null,
   "metadata": {},
   "outputs": [],
   "source": [
    "from tkinter import *\n",
    "\n",
    "root = Tk()\n",
    "\n",
    "varialbe1 = IntVar()\n",
    "varialbe2 = IntVar()\n",
    "\n",
    "def on_click():\n",
    "    print(varialbe1.get())\n",
    "    print(varialbe2.get())\n",
    "\n",
    "male_btn = Checkbutton(\n",
    "    root, text=\"male\", variable=varialbe1\n",
    ")\n",
    "\n",
    "female_btn = Checkbutton(\n",
    "    root, text=\"female\", variable=varialbe2\n",
    ")\n",
    "\n",
    "male_btn.pack()\n",
    "female_btn.pack()\n",
    "\n",
    "btn = Button(root, text=\"Click\", command=on_click)\n",
    "btn.pack()\n",
    "\n",
    "root.mainloop()"
   ]
  }
 ],
 "metadata": {
  "interpreter": {
   "hash": "5a880ef361d6e9478119933b4bf4ab122d795077cfcec491d1b396d17d82fee9"
  },
  "kernelspec": {
   "display_name": "Python 3.8.8 64-bit",
   "language": "python",
   "name": "python3"
  },
  "language_info": {
   "codemirror_mode": {
    "name": "ipython",
    "version": 3
   },
   "file_extension": ".py",
   "mimetype": "text/x-python",
   "name": "python",
   "nbconvert_exporter": "python",
   "pygments_lexer": "ipython3",
   "version": "3.8.8"
  },
  "orig_nbformat": 4
 },
 "nbformat": 4,
 "nbformat_minor": 2
}
