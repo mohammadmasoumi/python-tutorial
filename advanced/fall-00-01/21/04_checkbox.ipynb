{
 "cells": [
  {
   "cell_type": "code",
   "execution_count": 4,
   "metadata": {},
   "outputs": [
    {
     "name": "stdout",
     "output_type": "stream",
     "text": [
      "text: \n"
     ]
    }
   ],
   "source": [
    "from tkinter import *\n",
    "\n",
    "root = Tk()\n",
    "\n",
    "variable = StringVar()\n",
    "variable_text = StringVar()\n",
    "\n",
    "def on_click():\n",
    "    global entry, label, variable_text, variable\n",
    "    label.configure(text=variable_text.get())\n",
    "\n",
    "entry = Entry(root, textvariable=variable_text, width=20)\n",
    "entry.pack()\n",
    "\n",
    "label = Label(root, text=\"Empty\")\n",
    "label.pack()\n",
    "\n",
    "button = Button(root, text=\"Click me!\" ,command=on_click)\n",
    "button.pack()\n",
    "\n",
    "root.mainloop()"
   ]
  },
  {
   "cell_type": "code",
   "execution_count": 14,
   "metadata": {},
   "outputs": [],
   "source": [
    "from tkinter import *\n",
    "from functools import partial\n",
    "\n",
    "\n",
    "root = Tk()\n",
    "\n",
    "variable = StringVar()\n",
    "variable.set(None)\n",
    "pre_value = None\n",
    "\n",
    "def on_click():\n",
    "    print(variable.get())\n",
    "\n",
    "def on_click2(a):\n",
    "    global pre_value\n",
    "    value = variable.get()\n",
    "    \n",
    "    if value == pre_value:\n",
    "        variable.set(None)\n",
    "        pre_value = None\n",
    "\n",
    "    pre_value = value\n",
    "\n",
    "def on_click3():\n",
    "    global variable, prev_value\n",
    "    prev_value = None\n",
    "    variable.set(None)\n",
    "\n",
    "Radiobutton(root, text=\"Asghar1\", value=\"asghar1\", variable=variable, \n",
    "    command=partial(on_click2, \"asghar1\")\n",
    ").pack()\n",
    "\n",
    "Radiobutton(root, text=\"Asghar2\", value=\"asghar2\", variable=variable, \n",
    "    command=partial(on_click2, \"asghar2\")\n",
    ").pack()\n",
    "\n",
    "Radiobutton(root, text=\"Asghar3\", value=\"asghar3\", variable=variable, \n",
    "    command=partial(on_click2, \"asghar3\")\n",
    ").pack()\n",
    "\n",
    "\n",
    "btn = Button(root, text=\"Click\", command=on_click)\n",
    "btn.pack()\n",
    "\n",
    "btn = Button(root, text=\"Clear\", command=on_click3)\n",
    "btn.pack()\n",
    "\n",
    "root.mainloop()"
   ]
  }
 ],
 "metadata": {
  "interpreter": {
   "hash": "5a880ef361d6e9478119933b4bf4ab122d795077cfcec491d1b396d17d82fee9"
  },
  "kernelspec": {
   "display_name": "Python 3.8.8 64-bit",
   "language": "python",
   "name": "python3"
  },
  "language_info": {
   "codemirror_mode": {
    "name": "ipython",
    "version": 3
   },
   "file_extension": ".py",
   "mimetype": "text/x-python",
   "name": "python",
   "nbconvert_exporter": "python",
   "pygments_lexer": "ipython3",
   "version": "3.8.8"
  },
  "orig_nbformat": 4
 },
 "nbformat": 4,
 "nbformat_minor": 2
}
