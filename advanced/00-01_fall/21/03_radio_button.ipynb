{
 "cells": [
  {
   "cell_type": "code",
   "execution_count": 7,
   "metadata": {},
   "outputs": [
    {
     "name": "stdout",
     "output_type": "stream",
     "text": [
      "1\n",
      "3\n",
      "1\n",
      "3\n",
      "1\n",
      "3\n",
      "1\n",
      "3\n"
     ]
    }
   ],
   "source": [
    "from tkinter import *\n",
    "from PIL import Image, ImageTk\n",
    "\n",
    "\n",
    "root = Tk()\n",
    "variable = IntVar()\n",
    "#variable = StringVar()\n",
    "variable.set(3)\n",
    "\n",
    "image = ImageTk.PhotoImage(Image.open(\"images/1.jfif\"))\n",
    "\n",
    "\n",
    "def on_click():\n",
    "    print(variable.get())\n",
    "\n",
    "radio_button1 = Radiobutton(\n",
    "    root, \n",
    "    text=\"Radio button 1\", \n",
    "    variable=variable, \n",
    "    value=1, \n",
    "    bd=2,\n",
    "    bg=\"red\",\n",
    "    fg= \"black\",\n",
    "    activebackground=\"white\",\n",
    "    activeforeground=\"gold\",\n",
    "    cursor=\"heart\",\n",
    "    selectcolor=\"pink\",\n",
    "    image=image,\n",
    "    command=on_click\n",
    ")\n",
    "\n",
    "radio_button2 = Radiobutton(\n",
    "    root, \n",
    "    text=\"Radio button 2\", \n",
    "    variable=variable, \n",
    "    value=2, \n",
    "    bd=2,\n",
    "    bg=\"red\",\n",
    "    fg= \"black\",\n",
    "    activebackground=\"white\",\n",
    "    activeforeground=\"gold\",\n",
    "    cursor=\"heart\",\n",
    "    selectcolor=\"pink\",\n",
    "    image=image,\n",
    "    command=on_click,\n",
    "    state=DISABLED\n",
    ")\n",
    "\n",
    "radio_button3 = Radiobutton(\n",
    "    root, \n",
    "    text=\"Radio button 3\", \n",
    "    variable=variable, \n",
    "    value=3, \n",
    "    bd=2,\n",
    "    bg=\"red\",\n",
    "    fg= \"black\",\n",
    "    activebackground=\"white\",\n",
    "    activeforeground=\"gold\",\n",
    "    cursor=\"heart\",\n",
    "    selectcolor=\"pink\",\n",
    "    image=image,\n",
    "    command=on_click\n",
    ")\n",
    "\n",
    "\n",
    "radio_button1.pack()\n",
    "radio_button2.pack()\n",
    "radio_button3.pack()\n",
    "\n",
    "root.mainloop()"
   ]
  }
 ],
 "metadata": {
  "interpreter": {
   "hash": "b4b48d053682db28c355b9981bb8eb399540b0eed7d7fd3311f8e08fbce51247"
  },
  "kernelspec": {
   "display_name": "Python 3.8.8 64-bit ('venv': venv)",
   "language": "python",
   "name": "python3"
  },
  "language_info": {
   "codemirror_mode": {
    "name": "ipython",
    "version": 3
   },
   "file_extension": ".py",
   "mimetype": "text/x-python",
   "name": "python",
   "nbconvert_exporter": "python",
   "pygments_lexer": "ipython3",
   "version": "3.8.8"
  },
  "orig_nbformat": 4
 },
 "nbformat": 4,
 "nbformat_minor": 2
}
