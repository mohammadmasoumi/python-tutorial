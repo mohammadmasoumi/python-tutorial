{
 "cells": [
  {
   "cell_type": "markdown",
   "metadata": {},
   "source": [
    "# Button"
   ]
  },
  {
   "cell_type": "code",
   "execution_count": null,
   "metadata": {},
   "outputs": [],
   "source": [
    "from tkinter import *\n",
    "\n",
    "# root\n",
    "root = Tk()\n",
    "\n",
    "\n",
    "def on_click():\n",
    "    print(\"Clicked!\")\n",
    "\n",
    "\n",
    "button = Button(root, text=\"Click Me!\", command=on_click)\n",
    "button.pack()\n",
    "# button = Button(root, text=\"Click Me!\", command=lambda: on_click())\n",
    "\n",
    "# main loopevent\n",
    "root.mainloop()"
   ]
  },
  {
   "cell_type": "code",
   "execution_count": 5,
   "metadata": {},
   "outputs": [],
   "source": [
    "from tkinter import *\n",
    "\n",
    "# root\n",
    "root = Tk()\n",
    "\n",
    "\n",
    "text = \"ON\"\n",
    "def on_click():\n",
    "    global label\n",
    "    global text\n",
    "    global button\n",
    "\n",
    "    if text == \"ON\":\n",
    "        text = \"OFF\"\n",
    "    elif text == \"OFF\":\n",
    "        text = \"ON\"\n",
    "\n",
    "    label.config(text=text)\n",
    "    button.config(text=text)\n",
    "    # label.configure(text=text)\n",
    "\n",
    "label = Label(root, text=text)\n",
    "label.pack()\n",
    "\n",
    "button = Button(root, text=\"Click Me!\", command=on_click)\n",
    "button.pack()\n",
    "# button = Button(root, text=\"Click Me!\", command=lambda: on_click())\n",
    "\n",
    "# main loopevent\n",
    "root.mainloop()"
   ]
  },
  {
   "cell_type": "code",
   "execution_count": 19,
   "metadata": {},
   "outputs": [],
   "source": [
    "from tkinter import *\n",
    "\n",
    "# root\n",
    "root = Tk()\n",
    "\n",
    "\n",
    "text = \"No input\"\n",
    "#                     Enter your name:  mohammad\n",
    "default_entry_text = \"Enter your name: \"\n",
    "\n",
    "def on_click():\n",
    "    global entry\n",
    "    global label\n",
    "\n",
    "    text = entry.get()[len(default_entry_text):]\n",
    "    label.config(text=text)\n",
    "    entry.delete(len(default_entry_text), END)\n",
    "    # entry.insert(0, default_entry_text)\n",
    "\n",
    "# entry\n",
    "entry = Entry(root, width=100)\n",
    "entry.insert(0, default_entry_text)\n",
    "entry.pack()\n",
    "\n",
    "# label\n",
    "label = Label(root, text=text)\n",
    "label.pack()\n",
    "\n",
    "# button\n",
    "button = Button(root, text=\"Save\", command=on_click)\n",
    "button.pack()\n",
    "\n",
    "# main loopevent\n",
    "root.mainloop()"
   ]
  },
  {
   "cell_type": "code",
   "execution_count": 23,
   "metadata": {},
   "outputs": [],
   "source": [
    "from tkinter import *\n",
    "\n",
    "# root\n",
    "root = Tk()\n",
    "\n",
    "button = Button(root, text=\"Exit.\", command=lambda: root.destroy())\n",
    "button.pack()\n",
    "\n",
    "# main loop\n",
    "root.mainloop()"
   ]
  }
 ],
 "metadata": {
  "interpreter": {
   "hash": "b4b48d053682db28c355b9981bb8eb399540b0eed7d7fd3311f8e08fbce51247"
  },
  "kernelspec": {
   "display_name": "Python 3.8.8 64-bit ('venv': venv)",
   "language": "python",
   "name": "python3"
  },
  "language_info": {
   "codemirror_mode": {
    "name": "ipython",
    "version": 3
   },
   "file_extension": ".py",
   "mimetype": "text/x-python",
   "name": "python",
   "nbconvert_exporter": "python",
   "pygments_lexer": "ipython3",
   "version": "3.8.8"
  },
  "orig_nbformat": 4
 },
 "nbformat": 4,
 "nbformat_minor": 2
}
