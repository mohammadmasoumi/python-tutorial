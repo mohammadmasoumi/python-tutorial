{
 "cells": [
  {
   "cell_type": "markdown",
   "metadata": {},
   "source": [
    "# Entry"
   ]
  },
  {
   "cell_type": "code",
   "execution_count": 2,
   "metadata": {},
   "outputs": [],
   "source": [
    "from tkinter import *\n",
    "\n",
    "\n",
    "# root\n",
    "root = Tk()\n",
    "\n",
    "# entry\n",
    "entry = Entry(root, width=50)\n",
    "entry.pack(padx=10, pady=5, ipadx=10, ipady=5)\n",
    "\n",
    "# main eventloop\n",
    "root.mainloop()\n"
   ]
  },
  {
   "cell_type": "markdown",
   "metadata": {},
   "source": [
    "# get input"
   ]
  },
  {
   "cell_type": "code",
   "execution_count": 4,
   "metadata": {},
   "outputs": [],
   "source": [
    "from tkinter import *\n",
    "\n",
    "\n",
    "# root\n",
    "root = Tk()\n",
    "\n",
    "\n",
    "def get_text():\n",
    "    global entry\n",
    "    print(entry.get())\n",
    "\n",
    "# entry\n",
    "entry = Entry(root, width=50)\n",
    "entry.pack(padx=10, pady=5, ipadx=10, ipady=5)\n",
    "\n",
    "# button\n",
    "button = Button(root, text=\"save\", command=get_text, state=DISABLED)\n",
    "button.pack(padx=10, pady=10)\n",
    "\n",
    "\n",
    "# main eventloop\n",
    "root.mainloop()\n"
   ]
  },
  {
   "cell_type": "markdown",
   "metadata": {},
   "source": [
    "# Entry & Button & Label"
   ]
  },
  {
   "cell_type": "code",
   "execution_count": 12,
   "metadata": {},
   "outputs": [],
   "source": [
    "from tkinter import *\n",
    "\n",
    "\n",
    "# root\n",
    "root = Tk()\n",
    "\n",
    "\n",
    "\n",
    "default_text = \"Enter you name: \"\n",
    "\n",
    "def get_text():\n",
    "    global entry\n",
    "    global label\n",
    "\n",
    "    text = entry.get()\n",
    "    entry.delete(0, END)\n",
    "    entry.insert(0, default_text)\n",
    "\n",
    "    label.configure(text=text[len(default_text):])\n",
    "    \n",
    "\n",
    "# entry\n",
    "entry = Entry(root, width=50)\n",
    "entry.insert(0, default_text)\n",
    "entry.pack(padx=10, pady=5, ipadx=10, ipady=5)\n",
    "\n",
    "# button\n",
    "button = Button(root, text=\"save\", command=get_text)\n",
    "button.pack(padx=10, pady=10)\n",
    "\n",
    "\n",
    "# label \n",
    "label = Label(root, text=\"No input\")\n",
    "label.pack(padx=10, pady=10)\n",
    "\n",
    "\n",
    "# main eventloop\n",
    "root.mainloop()"
   ]
  }
 ],
 "metadata": {
  "interpreter": {
   "hash": "74afa6d18a5a39b8ce421aa98b1f4815a7471d239139e74ddf28af6a52ab835f"
  },
  "kernelspec": {
   "display_name": "Python 3.8.10 64-bit ('base': conda)",
   "language": "python",
   "name": "python3"
  },
  "language_info": {
   "codemirror_mode": {
    "name": "ipython",
    "version": 3
   },
   "file_extension": ".py",
   "mimetype": "text/x-python",
   "name": "python",
   "nbconvert_exporter": "python",
   "pygments_lexer": "ipython3",
   "version": "3.8.10"
  },
  "orig_nbformat": 4
 },
 "nbformat": 4,
 "nbformat_minor": 2
}
