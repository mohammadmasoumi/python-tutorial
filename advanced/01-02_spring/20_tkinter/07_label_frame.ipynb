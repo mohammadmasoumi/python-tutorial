{
 "cells": [
  {
   "cell_type": "markdown",
   "metadata": {},
   "source": [
    "# Label frame"
   ]
  },
  {
   "cell_type": "code",
   "execution_count": 1,
   "metadata": {},
   "outputs": [],
   "source": [
    "from tkinter import *\n",
    "\n",
    "\n",
    "# root\n",
    "root = Tk()\n",
    "\n",
    "\n",
    "frame = LabelFrame(root, text=\"This is a frame!\", padx=50, pady=50)\n",
    "frame.pack(padx=10, pady=10)\n",
    "\n",
    "\n",
    "button = Button(frame, text=\"Don't touch me!\")\n",
    "button.pack(padx=10, pady=10)\n",
    "\n",
    "\n",
    "# main loopevent\n",
    "root.mainloop()\n"
   ]
  }
 ],
 "metadata": {
  "interpreter": {
   "hash": "904b9da47796e6b13648dcf2f1f302b9941b8da10864de913021d30fa1cd1c59"
  },
  "kernelspec": {
   "display_name": "Python 3.8.10 64-bit ('venv': venv)",
   "language": "python",
   "name": "python3"
  },
  "language_info": {
   "codemirror_mode": {
    "name": "ipython",
    "version": 3
   },
   "file_extension": ".py",
   "mimetype": "text/x-python",
   "name": "python",
   "nbconvert_exporter": "python",
   "pygments_lexer": "ipython3",
   "version": "3.8.10"
  },
  "orig_nbformat": 4
 },
 "nbformat": 4,
 "nbformat_minor": 2
}
