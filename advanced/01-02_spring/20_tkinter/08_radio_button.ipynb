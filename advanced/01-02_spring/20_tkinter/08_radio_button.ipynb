{
 "cells": [
  {
   "cell_type": "code",
   "execution_count": 2,
   "metadata": {},
   "outputs": [],
   "source": [
    "from tkinter import *\n",
    "\n",
    "\n",
    "# root\n",
    "root = Tk()\n",
    "\n",
    "\n",
    "# radio button\n",
    "variable = IntVar()\n",
    "variable.set(1)\n",
    "\n",
    "\n",
    "def change_label():\n",
    "    global label\n",
    "\n",
    "    label.configure(text=variable.get())\n",
    "\n",
    "\n",
    "values = [1, 2, 3, 4, 5]\n",
    "\n",
    "for value in values:\n",
    "    radio_button = Radiobutton(root, text=f\"Option {value}\", variable=variable, value=value, command=change_label)\n",
    "    radio_button.pack()\n",
    "\n",
    "\n",
    "label = Label(root, text=variable.get())\n",
    "label.pack()\n",
    "\n",
    "\n",
    "root.mainloop()"
   ]
  }
 ],
 "metadata": {
  "interpreter": {
   "hash": "904b9da47796e6b13648dcf2f1f302b9941b8da10864de913021d30fa1cd1c59"
  },
  "kernelspec": {
   "display_name": "Python 3.8.10 64-bit ('venv': venv)",
   "language": "python",
   "name": "python3"
  },
  "language_info": {
   "codemirror_mode": {
    "name": "ipython",
    "version": 3
   },
   "file_extension": ".py",
   "mimetype": "text/x-python",
   "name": "python",
   "nbconvert_exporter": "python",
   "pygments_lexer": "ipython3",
   "version": "3.8.10"
  },
  "orig_nbformat": 4
 },
 "nbformat": 4,
 "nbformat_minor": 2
}
