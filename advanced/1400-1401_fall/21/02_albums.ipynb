{
 "cells": [
  {
   "cell_type": "markdown",
   "metadata": {},
   "source": [
    "# Albums\n"
   ]
  },
  {
   "cell_type": "code",
   "execution_count": 8,
   "metadata": {},
   "outputs": [],
   "source": [
    "from tkinter import *\n",
    "from PIL import Image, ImageTk\n",
    "\n",
    "\n",
    "# root\n",
    "root = Tk()\n",
    "\n",
    "\n",
    "image1 = ImageTk.PhotoImage(Image.open(\"images/1.jfif\"))\n",
    "image2 = ImageTk.PhotoImage(Image.open(\"images/2.jfif\"))\n",
    "image3 = ImageTk.PhotoImage(Image.open(\"images/3.jfif\"))\n",
    "image4 = ImageTk.PhotoImage(Image.open(\"images/4.jpg\"))\n",
    "\n",
    "images = (image1, image2, image3, image4)\n",
    "\n",
    "# \n",
    "# label = Label(root, image=image1)\n",
    "# label.grid()\n",
    "\n",
    "#label2 = Label(root, image=image2)\n",
    "#label2.place(x=0, y=0, width=20, height=20,)\n",
    " \n",
    "\n",
    "# \n",
    "root.mainloop()"
   ]
  }
 ],
 "metadata": {
  "interpreter": {
   "hash": "a4957006abed397787c0555f8d886fb920e98fe40e750dc3dac033141670716e"
  },
  "kernelspec": {
   "display_name": "Python 3.8.8 64-bit ('env': venv)",
   "language": "python",
   "name": "python3"
  },
  "language_info": {
   "codemirror_mode": {
    "name": "ipython",
    "version": 3
   },
   "file_extension": ".py",
   "mimetype": "text/x-python",
   "name": "python",
   "nbconvert_exporter": "python",
   "pygments_lexer": "ipython3",
   "version": "3.8.8"
  },
  "orig_nbformat": 4
 },
 "nbformat": 4,
 "nbformat_minor": 2
}
